{
  "cells": [
    {
      "cell_type": "markdown",
      "metadata": {
        "id": "v7yEAkCtFnZH"
      },
      "source": [
        "**Zero cost Zero time Zero shot: ZZZ Financial Sentiment Analysis**\n",
        "\n",
        "Hugging Face's Moritz Laurer demonstrated in a great [blog](https://huggingface.co/blog/synthetic-data-save-costs) how to utilize pseudo-labeling data to achieve GPT-4 like performance with significantly reduced budget, carbon emission, and inference time. In practice, Moritz distilled Mixtral's knowledge into RoBERTa using a zero-shot text classification prompt and achieved no accuracy loss. In this post, we will try to take this work one step further and utilize extreme compression of 5-6 orders of magnitude without any accuracy loss. We will show how you can run simple MLP (Multilayer Perceptron) neural network (zero time) on low-resource device (zero cost) and achieve GPT-4 like performance without any labeled data (zero shot). We will demonstrate it on a financial sentiment analysis task."
      ]
    },
    {
      "cell_type": "markdown",
      "metadata": {
        "id": "yjZXK1n7h_Kt"
      },
      "source": [
        "Init"
      ]
    },
    {
      "cell_type": "code",
      "execution_count": null,
      "metadata": {
        "id": "6DuEKRrDb5P3"
      },
      "outputs": [],
      "source": [
        "!pip install datasets==2.18.0  # for loading the example dataset\n",
        "!pip install scikit-learn  # for evaluation metrics"
      ]
    },
    {
      "cell_type": "code",
      "execution_count": null,
      "metadata": {
        "id": "xoWkzqOOb8bG"
      },
      "outputs": [],
      "source": [
        "from sklearn.neural_network import MLPClassifier\n",
        "from sklearn.pipeline import make_pipeline\n",
        "from sklearn.feature_extraction.text import CountVectorizer\n",
        "from sklearn.metrics import accuracy_score,classification_report\n",
        "import numpy as np\n",
        "import pandas as pd\n",
        "import random\n",
        "from datasets import load_dataset, Dataset\n",
        "from setfit import SetFitModel, Trainer, TrainingArguments"
      ]
    },
    {
      "cell_type": "markdown",
      "metadata": {
        "id": "mgFuG2T7VQsy"
      },
      "source": [
        "Load Mixtral pseudo-labeling data from Hugging Face's Moritz Laurer GitHub https://github.com/MoritzLaurer/synthetic-data-blog/tree/main"
      ]
    },
    {
      "cell_type": "code",
      "execution_count": null,
      "metadata": {
        "id": "IpnL-fqABl2V"
      },
      "outputs": [],
      "source": [
        "test_df = pd.read_csv('https://raw.githubusercontent.com/MoritzLaurer/synthetic-data-blog/main/data/df_test_HF_2024-02-06-21-57_mixtral.csv')\n",
        "test_df.head()\n",
        "\n",
        "train_df = pd.read_csv('https://raw.githubusercontent.com/MoritzLaurer/synthetic-data-blog/main/data/df_train_HF_2024-02-06-21-57_mixtral.csv')\n",
        "train_df.head()\n",
        "\n",
        "test_dataset = Dataset.from_dict({\"text\": test_df['text'], \"label\": test_df['label_experts']})  # Expert labeling\n",
        "train_dataset = Dataset.from_dict({\"text\": train_df[\"text\"], \"label\": train_df['label_llm_cot_multiple']}) # Pseudo labeling Mixtral CoT+SC"
      ]
    },
    {
      "cell_type": "code",
      "execution_count": null,
      "metadata": {
        "colab": {
          "base_uri": "https://localhost:8080/",
          "height": 362
        },
        "id": "nhJzOwKKdvzU",
        "outputId": "de9c4af9-7742-4439-cdd1-29ad8dc93471"
      },
      "outputs": [
        {
          "data": {
            "application/vnd.google.colaboratory.intrinsic+json": {
              "summary": "{\n  \"name\": \"test_df\",\n  \"rows\": 453,\n  \"fields\": [\n    {\n      \"column\": \"sc_iter1\",\n      \"properties\": {\n        \"dtype\": \"category\",\n        \"num_unique_values\": 3,\n        \"samples\": [\n          \"negative\",\n          \"neutral\",\n          \"positive\"\n        ],\n        \"semantic_type\": \"\",\n        \"description\": \"\"\n      }\n    },\n    {\n      \"column\": \"sc_iter2\",\n      \"properties\": {\n        \"dtype\": \"category\",\n        \"num_unique_values\": 3,\n        \"samples\": [\n          \"negative\",\n          \"neutral\",\n          \"positive\"\n        ],\n        \"semantic_type\": \"\",\n        \"description\": \"\"\n      }\n    },\n    {\n      \"column\": \"sc_iter3\",\n      \"properties\": {\n        \"dtype\": \"category\",\n        \"num_unique_values\": 4,\n        \"samples\": [\n          \"neutral\",\n          \"slightly positive\",\n          \"negative\"\n        ],\n        \"semantic_type\": \"\",\n        \"description\": \"\"\n      }\n    },\n    {\n      \"column\": \"label_llm_cot_multiple\",\n      \"properties\": {\n        \"dtype\": \"category\",\n        \"num_unique_values\": 3,\n        \"samples\": [\n          \"negative\",\n          \"neutral\",\n          \"positive\"\n        ],\n        \"semantic_type\": \"\",\n        \"description\": \"\"\n      }\n    },\n    {\n      \"column\": \"label_llm_cot\",\n      \"properties\": {\n        \"dtype\": \"category\",\n        \"num_unique_values\": 3,\n        \"samples\": [\n          \"negative\",\n          \"neutral\",\n          \"positive\"\n        ],\n        \"semantic_type\": \"\",\n        \"description\": \"\"\n      }\n    },\n    {\n      \"column\": \"label_llm\",\n      \"properties\": {\n        \"dtype\": \"category\",\n        \"num_unique_values\": 3,\n        \"samples\": [\n          \"negative\",\n          \"neutral\",\n          \"positive\"\n        ],\n        \"semantic_type\": \"\",\n        \"description\": \"\"\n      }\n    },\n    {\n      \"column\": \"label_experts\",\n      \"properties\": {\n        \"dtype\": \"category\",\n        \"num_unique_values\": 3,\n        \"samples\": [\n          \"negative\",\n          \"neutral\",\n          \"positive\"\n        ],\n        \"semantic_type\": \"\",\n        \"description\": \"\"\n      }\n    },\n    {\n      \"column\": \"text\",\n      \"properties\": {\n        \"dtype\": \"string\",\n        \"num_unique_values\": 453,\n        \"samples\": [\n          \"Both operating profit and net sales for the nine-month period increased , respectively by 26.6 % and 3.4 % , as compared to the corresponding period in 2006 .\",\n          \"The company reported a profit of 800,000 euro ($ 1.2 mln)on the sale of its Varesvuo Partners sub-group and a loss of 400,000 euro $ 623,000 caused by the sale of its program production subsidiary Oy Filmiteollisuus Fine Ab .\",\n          \"Simultaneously , his responsibility area is extended from legal affairs to cover also mergers and acquisitions .\"\n        ],\n        \"semantic_type\": \"\",\n        \"description\": \"\"\n      }\n    },\n    {\n      \"column\": \"reason_iter1\",\n      \"properties\": {\n        \"dtype\": \"string\",\n        \"num_unique_values\": 446,\n        \"samples\": [\n          \"The CEO of the company says that their operations improved in the first quarter. This is positive for investors as it indicates the company is doing well.\",\n          \"The company has achieved a 15% increase in net profit compared to the same period last year. This is a clear positive indicator for investors, especially given the global economic situation\",\n          \"The text only mentions a discussion about selling water to industrial facilities. There is no indication if this is positive or negative for the company. Therefore, the label is neutral.\"\n        ],\n        \"semantic_type\": \"\",\n        \"description\": \"\"\n      }\n    },\n    {\n      \"column\": \"reason_iter2\",\n      \"properties\": {\n        \"dtype\": \"string\",\n        \"num_unique_values\": 447,\n        \"samples\": [\n          \"The text only mentions the core business and expertise of the company, there is no sentiment attached to this information\",\n          \"The text indicates a positive development in the customer base for the company\",\n          \"Net interest income increased slightly from last year. This is not a significant amount and there is no other positive or negative context in the text, so I will label this as neutral.\"\n        ],\n        \"semantic_type\": \"\",\n        \"description\": \"\"\n      }\n    },\n    {\n      \"column\": \"reason_iter3\",\n      \"properties\": {\n        \"dtype\": \"string\",\n        \"num_unique_values\": 447,\n        \"samples\": [\n          \"A rise in net profit is generally a positive sentiment for investors.\",\n          \"This text indicates that Biohit already has a customer base with Genesis and that this customer base is expected to grow, which is positive from an investor perspective.\",\n          \"The text mentions a positive development of net interest income, which is a positive signal for investors as it contributes to the profitability of a bank. However, the increase is relatively small and may not be significant enough to have a large impact on the overall performance of the bank.\"\n        ],\n        \"semantic_type\": \"\",\n        \"description\": \"\"\n      }\n    }\n  ]\n}",
              "type": "dataframe",
              "variable_name": "test_df"
            },
            "text/html": [
              "\n",
              "  <div id=\"df-b2094df4-e484-45ae-b334-9ae37764cc08\" class=\"colab-df-container\">\n",
              "    <div>\n",
              "<style scoped>\n",
              "    .dataframe tbody tr th:only-of-type {\n",
              "        vertical-align: middle;\n",
              "    }\n",
              "\n",
              "    .dataframe tbody tr th {\n",
              "        vertical-align: top;\n",
              "    }\n",
              "\n",
              "    .dataframe thead th {\n",
              "        text-align: right;\n",
              "    }\n",
              "</style>\n",
              "<table border=\"1\" class=\"dataframe\">\n",
              "  <thead>\n",
              "    <tr style=\"text-align: right;\">\n",
              "      <th></th>\n",
              "      <th>sc_iter1</th>\n",
              "      <th>sc_iter2</th>\n",
              "      <th>sc_iter3</th>\n",
              "      <th>label_llm_cot_multiple</th>\n",
              "      <th>label_llm_cot</th>\n",
              "      <th>label_llm</th>\n",
              "      <th>label_experts</th>\n",
              "      <th>text</th>\n",
              "      <th>reason_iter1</th>\n",
              "      <th>reason_iter2</th>\n",
              "      <th>reason_iter3</th>\n",
              "    </tr>\n",
              "  </thead>\n",
              "  <tbody>\n",
              "    <tr>\n",
              "      <th>0</th>\n",
              "      <td>negative</td>\n",
              "      <td>negative</td>\n",
              "      <td>negative</td>\n",
              "      <td>negative</td>\n",
              "      <td>negative</td>\n",
              "      <td>negative</td>\n",
              "      <td>negative</td>\n",
              "      <td>In Q2 of 2009 , profit before taxes amounted t...</td>\n",
              "      <td>The text mentions a decrease in profit before ...</td>\n",
              "      <td>A decrease in profit before taxes from 26.8 mn...</td>\n",
              "      <td>The text mentions a decrease in profit before ...</td>\n",
              "    </tr>\n",
              "    <tr>\n",
              "      <th>1</th>\n",
              "      <td>neutral</td>\n",
              "      <td>neutral</td>\n",
              "      <td>neutral</td>\n",
              "      <td>neutral</td>\n",
              "      <td>neutral</td>\n",
              "      <td>neutral</td>\n",
              "      <td>neutral</td>\n",
              "      <td>To check them out or to make a bid they will b...</td>\n",
              "      <td>The text only mentions an event but no positiv...</td>\n",
              "      <td>The text does not mention any investment relev...</td>\n",
              "      <td>The text only mentions logistical information ...</td>\n",
              "    </tr>\n",
              "    <tr>\n",
              "      <th>2</th>\n",
              "      <td>positive</td>\n",
              "      <td>positive</td>\n",
              "      <td>positive</td>\n",
              "      <td>positive</td>\n",
              "      <td>positive</td>\n",
              "      <td>positive</td>\n",
              "      <td>positive</td>\n",
              "      <td>Operating profit surged to EUR21m from EUR106 ...</td>\n",
              "      <td>The text states an increase in operating profi...</td>\n",
              "      <td>An increase in operating profit from a low bas...</td>\n",
              "      <td>An increase in operating profit by several ord...</td>\n",
              "    </tr>\n",
              "    <tr>\n",
              "      <th>3</th>\n",
              "      <td>negative</td>\n",
              "      <td>negative</td>\n",
              "      <td>negative</td>\n",
              "      <td>negative</td>\n",
              "      <td>negative</td>\n",
              "      <td>negative</td>\n",
              "      <td>negative</td>\n",
              "      <td>Operating profit fell to EUR 20.3 mn from EUR ...</td>\n",
              "      <td>A decrease in operating profit is negative for...</td>\n",
              "      <td>Operating profit decreased significantly from ...</td>\n",
              "      <td>Operating profit fell by over 70% which is a s...</td>\n",
              "    </tr>\n",
              "    <tr>\n",
              "      <th>4</th>\n",
              "      <td>neutral</td>\n",
              "      <td>neutral</td>\n",
              "      <td>neutral</td>\n",
              "      <td>neutral</td>\n",
              "      <td>neutral</td>\n",
              "      <td>neutral</td>\n",
              "      <td>neutral</td>\n",
              "      <td>The contract also includes cutting and edging ...</td>\n",
              "      <td>The text only mentions a contract without any ...</td>\n",
              "      <td>The text only describes a business contract wi...</td>\n",
              "      <td>The text is only informational and does not ex...</td>\n",
              "    </tr>\n",
              "  </tbody>\n",
              "</table>\n",
              "</div>\n",
              "    <div class=\"colab-df-buttons\">\n",
              "\n",
              "  <div class=\"colab-df-container\">\n",
              "    <button class=\"colab-df-convert\" onclick=\"convertToInteractive('df-b2094df4-e484-45ae-b334-9ae37764cc08')\"\n",
              "            title=\"Convert this dataframe to an interactive table.\"\n",
              "            style=\"display:none;\">\n",
              "\n",
              "  <svg xmlns=\"http://www.w3.org/2000/svg\" height=\"24px\" viewBox=\"0 -960 960 960\">\n",
              "    <path d=\"M120-120v-720h720v720H120Zm60-500h600v-160H180v160Zm220 220h160v-160H400v160Zm0 220h160v-160H400v160ZM180-400h160v-160H180v160Zm440 0h160v-160H620v160ZM180-180h160v-160H180v160Zm440 0h160v-160H620v160Z\"/>\n",
              "  </svg>\n",
              "    </button>\n",
              "\n",
              "  <style>\n",
              "    .colab-df-container {\n",
              "      display:flex;\n",
              "      gap: 12px;\n",
              "    }\n",
              "\n",
              "    .colab-df-convert {\n",
              "      background-color: #E8F0FE;\n",
              "      border: none;\n",
              "      border-radius: 50%;\n",
              "      cursor: pointer;\n",
              "      display: none;\n",
              "      fill: #1967D2;\n",
              "      height: 32px;\n",
              "      padding: 0 0 0 0;\n",
              "      width: 32px;\n",
              "    }\n",
              "\n",
              "    .colab-df-convert:hover {\n",
              "      background-color: #E2EBFA;\n",
              "      box-shadow: 0px 1px 2px rgba(60, 64, 67, 0.3), 0px 1px 3px 1px rgba(60, 64, 67, 0.15);\n",
              "      fill: #174EA6;\n",
              "    }\n",
              "\n",
              "    .colab-df-buttons div {\n",
              "      margin-bottom: 4px;\n",
              "    }\n",
              "\n",
              "    [theme=dark] .colab-df-convert {\n",
              "      background-color: #3B4455;\n",
              "      fill: #D2E3FC;\n",
              "    }\n",
              "\n",
              "    [theme=dark] .colab-df-convert:hover {\n",
              "      background-color: #434B5C;\n",
              "      box-shadow: 0px 1px 3px 1px rgba(0, 0, 0, 0.15);\n",
              "      filter: drop-shadow(0px 1px 2px rgba(0, 0, 0, 0.3));\n",
              "      fill: #FFFFFF;\n",
              "    }\n",
              "  </style>\n",
              "\n",
              "    <script>\n",
              "      const buttonEl =\n",
              "        document.querySelector('#df-b2094df4-e484-45ae-b334-9ae37764cc08 button.colab-df-convert');\n",
              "      buttonEl.style.display =\n",
              "        google.colab.kernel.accessAllowed ? 'block' : 'none';\n",
              "\n",
              "      async function convertToInteractive(key) {\n",
              "        const element = document.querySelector('#df-b2094df4-e484-45ae-b334-9ae37764cc08');\n",
              "        const dataTable =\n",
              "          await google.colab.kernel.invokeFunction('convertToInteractive',\n",
              "                                                    [key], {});\n",
              "        if (!dataTable) return;\n",
              "\n",
              "        const docLinkHtml = 'Like what you see? Visit the ' +\n",
              "          '<a target=\"_blank\" href=https://colab.research.google.com/notebooks/data_table.ipynb>data table notebook</a>'\n",
              "          + ' to learn more about interactive tables.';\n",
              "        element.innerHTML = '';\n",
              "        dataTable['output_type'] = 'display_data';\n",
              "        await google.colab.output.renderOutput(dataTable, element);\n",
              "        const docLink = document.createElement('div');\n",
              "        docLink.innerHTML = docLinkHtml;\n",
              "        element.appendChild(docLink);\n",
              "      }\n",
              "    </script>\n",
              "  </div>\n",
              "\n",
              "\n",
              "<div id=\"df-21d1e769-afc6-43a8-8fbe-522866fe24ec\">\n",
              "  <button class=\"colab-df-quickchart\" onclick=\"quickchart('df-21d1e769-afc6-43a8-8fbe-522866fe24ec')\"\n",
              "            title=\"Suggest charts\"\n",
              "            style=\"display:none;\">\n",
              "\n",
              "<svg xmlns=\"http://www.w3.org/2000/svg\" height=\"24px\"viewBox=\"0 0 24 24\"\n",
              "     width=\"24px\">\n",
              "    <g>\n",
              "        <path d=\"M19 3H5c-1.1 0-2 .9-2 2v14c0 1.1.9 2 2 2h14c1.1 0 2-.9 2-2V5c0-1.1-.9-2-2-2zM9 17H7v-7h2v7zm4 0h-2V7h2v10zm4 0h-2v-4h2v4z\"/>\n",
              "    </g>\n",
              "</svg>\n",
              "  </button>\n",
              "\n",
              "<style>\n",
              "  .colab-df-quickchart {\n",
              "      --bg-color: #E8F0FE;\n",
              "      --fill-color: #1967D2;\n",
              "      --hover-bg-color: #E2EBFA;\n",
              "      --hover-fill-color: #174EA6;\n",
              "      --disabled-fill-color: #AAA;\n",
              "      --disabled-bg-color: #DDD;\n",
              "  }\n",
              "\n",
              "  [theme=dark] .colab-df-quickchart {\n",
              "      --bg-color: #3B4455;\n",
              "      --fill-color: #D2E3FC;\n",
              "      --hover-bg-color: #434B5C;\n",
              "      --hover-fill-color: #FFFFFF;\n",
              "      --disabled-bg-color: #3B4455;\n",
              "      --disabled-fill-color: #666;\n",
              "  }\n",
              "\n",
              "  .colab-df-quickchart {\n",
              "    background-color: var(--bg-color);\n",
              "    border: none;\n",
              "    border-radius: 50%;\n",
              "    cursor: pointer;\n",
              "    display: none;\n",
              "    fill: var(--fill-color);\n",
              "    height: 32px;\n",
              "    padding: 0;\n",
              "    width: 32px;\n",
              "  }\n",
              "\n",
              "  .colab-df-quickchart:hover {\n",
              "    background-color: var(--hover-bg-color);\n",
              "    box-shadow: 0 1px 2px rgba(60, 64, 67, 0.3), 0 1px 3px 1px rgba(60, 64, 67, 0.15);\n",
              "    fill: var(--button-hover-fill-color);\n",
              "  }\n",
              "\n",
              "  .colab-df-quickchart-complete:disabled,\n",
              "  .colab-df-quickchart-complete:disabled:hover {\n",
              "    background-color: var(--disabled-bg-color);\n",
              "    fill: var(--disabled-fill-color);\n",
              "    box-shadow: none;\n",
              "  }\n",
              "\n",
              "  .colab-df-spinner {\n",
              "    border: 2px solid var(--fill-color);\n",
              "    border-color: transparent;\n",
              "    border-bottom-color: var(--fill-color);\n",
              "    animation:\n",
              "      spin 1s steps(1) infinite;\n",
              "  }\n",
              "\n",
              "  @keyframes spin {\n",
              "    0% {\n",
              "      border-color: transparent;\n",
              "      border-bottom-color: var(--fill-color);\n",
              "      border-left-color: var(--fill-color);\n",
              "    }\n",
              "    20% {\n",
              "      border-color: transparent;\n",
              "      border-left-color: var(--fill-color);\n",
              "      border-top-color: var(--fill-color);\n",
              "    }\n",
              "    30% {\n",
              "      border-color: transparent;\n",
              "      border-left-color: var(--fill-color);\n",
              "      border-top-color: var(--fill-color);\n",
              "      border-right-color: var(--fill-color);\n",
              "    }\n",
              "    40% {\n",
              "      border-color: transparent;\n",
              "      border-right-color: var(--fill-color);\n",
              "      border-top-color: var(--fill-color);\n",
              "    }\n",
              "    60% {\n",
              "      border-color: transparent;\n",
              "      border-right-color: var(--fill-color);\n",
              "    }\n",
              "    80% {\n",
              "      border-color: transparent;\n",
              "      border-right-color: var(--fill-color);\n",
              "      border-bottom-color: var(--fill-color);\n",
              "    }\n",
              "    90% {\n",
              "      border-color: transparent;\n",
              "      border-bottom-color: var(--fill-color);\n",
              "    }\n",
              "  }\n",
              "</style>\n",
              "\n",
              "  <script>\n",
              "    async function quickchart(key) {\n",
              "      const quickchartButtonEl =\n",
              "        document.querySelector('#' + key + ' button');\n",
              "      quickchartButtonEl.disabled = true;  // To prevent multiple clicks.\n",
              "      quickchartButtonEl.classList.add('colab-df-spinner');\n",
              "      try {\n",
              "        const charts = await google.colab.kernel.invokeFunction(\n",
              "            'suggestCharts', [key], {});\n",
              "      } catch (error) {\n",
              "        console.error('Error during call to suggestCharts:', error);\n",
              "      }\n",
              "      quickchartButtonEl.classList.remove('colab-df-spinner');\n",
              "      quickchartButtonEl.classList.add('colab-df-quickchart-complete');\n",
              "    }\n",
              "    (() => {\n",
              "      let quickchartButtonEl =\n",
              "        document.querySelector('#df-21d1e769-afc6-43a8-8fbe-522866fe24ec button');\n",
              "      quickchartButtonEl.style.display =\n",
              "        google.colab.kernel.accessAllowed ? 'block' : 'none';\n",
              "    })();\n",
              "  </script>\n",
              "</div>\n",
              "\n",
              "    </div>\n",
              "  </div>\n"
            ],
            "text/plain": [
              "   sc_iter1  sc_iter2  sc_iter3 label_llm_cot_multiple label_llm_cot  \\\n",
              "0  negative  negative  negative               negative      negative   \n",
              "1   neutral   neutral   neutral                neutral       neutral   \n",
              "2  positive  positive  positive               positive      positive   \n",
              "3  negative  negative  negative               negative      negative   \n",
              "4   neutral   neutral   neutral                neutral       neutral   \n",
              "\n",
              "  label_llm label_experts                                               text  \\\n",
              "0  negative      negative  In Q2 of 2009 , profit before taxes amounted t...   \n",
              "1   neutral       neutral  To check them out or to make a bid they will b...   \n",
              "2  positive      positive  Operating profit surged to EUR21m from EUR106 ...   \n",
              "3  negative      negative  Operating profit fell to EUR 20.3 mn from EUR ...   \n",
              "4   neutral       neutral  The contract also includes cutting and edging ...   \n",
              "\n",
              "                                        reason_iter1  \\\n",
              "0  The text mentions a decrease in profit before ...   \n",
              "1  The text only mentions an event but no positiv...   \n",
              "2  The text states an increase in operating profi...   \n",
              "3  A decrease in operating profit is negative for...   \n",
              "4  The text only mentions a contract without any ...   \n",
              "\n",
              "                                        reason_iter2  \\\n",
              "0  A decrease in profit before taxes from 26.8 mn...   \n",
              "1  The text does not mention any investment relev...   \n",
              "2  An increase in operating profit from a low bas...   \n",
              "3  Operating profit decreased significantly from ...   \n",
              "4  The text only describes a business contract wi...   \n",
              "\n",
              "                                        reason_iter3  \n",
              "0  The text mentions a decrease in profit before ...  \n",
              "1  The text only mentions logistical information ...  \n",
              "2  An increase in operating profit by several ord...  \n",
              "3  Operating profit fell by over 70% which is a s...  \n",
              "4  The text is only informational and does not ex...  "
            ]
          },
          "execution_count": 4,
          "metadata": {},
          "output_type": "execute_result"
        }
      ],
      "source": [
        "test_df.head()"
      ]
    },
    {
      "cell_type": "markdown",
      "metadata": {
        "id": "Kg00eb_ceELB"
      },
      "source": [
        "Figure1: Zero-Shot Financial sentiment detection performance (https://huggingface.co/blog/synthetic-data-save-costs). zeroshot for the 3 generative LLMs and a fine-tuned RoBERTa based on the zeroshot pseudo-labeled data from Mixtral (CoT + SC) (1800~ data rows/texts)\n",
        "\n",
        " ![fig_mixtral_gpt_roberta.png](data:image/png;base64,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)"
      ]
    },
    {
      "cell_type": "markdown",
      "metadata": {
        "id": "QKJZJ3rkB9kl"
      },
      "source": [
        "Train SetfIt with Mixtral pseudo-labeling data\n",
        "\n",
        "The 'bge-small-en-v1.5' model includes only 30M parameters compared to RoBERTa-base's 130M."
      ]
    },
    {
      "cell_type": "code",
      "execution_count": null,
      "metadata": {
        "colab": {
          "base_uri": "https://localhost:8080/",
          "height": 270,
          "referenced_widgets": [
            "ac458aa94d47451ebf4f63549b511ec4",
            "123f643aeb5d457699547f666e673cbc",
            "35151d9234d4427b98a6948bb283cbc5",
            "d9552c07dcb14f95a055b303ed24bd39",
            "b5b2373b333d4f0a885c104888aa471b",
            "dc42221270df450291c58eded4485b23",
            "1aa495a073c2405a83ef8d91aef7d6b9",
            "4450c94456d842808f90bd031c908e9d",
            "18520d6172d0440cbb1c161d36ca11da",
            "a1191159df0b4dec91385d28af74fa5e",
            "4f1693d224a24b74a730ef885bd2b036"
          ]
        },
        "id": "3JLStDwBBwNC",
        "outputId": "b8ee2a51-f5be-4617-dad9-fc3ebd25d77f"
      },
      "outputs": [
        {
          "name": "stderr",
          "output_type": "stream",
          "text": [
            "model_head.pkl not found on HuggingFace Hub, initialising classification head with random weights. You should TRAIN this model on a downstream task to use it for predictions and inference.\n"
          ]
        },
        {
          "data": {
            "application/vnd.jupyter.widget-view+json": {
              "model_id": "ac458aa94d47451ebf4f63549b511ec4",
              "version_major": 2,
              "version_minor": 0
            },
            "text/plain": [
              "Map:   0%|          | 0/1811 [00:00<?, ? examples/s]"
            ]
          },
          "metadata": {},
          "output_type": "display_data"
        },
        {
          "name": "stderr",
          "output_type": "stream",
          "text": [
            "***** Running training *****\n",
            "  Num unique pairs = 18110\n",
            "  Batch size = 16\n",
            "  Num epochs = 1\n",
            "  Total optimization steps = 1132\n"
          ]
        },
        {
          "data": {
            "text/html": [
              "\n",
              "    <div>\n",
              "      \n",
              "      <progress value='1132' max='1132' style='width:300px; height:20px; vertical-align: middle;'></progress>\n",
              "      [1132/1132 02:30, Epoch 1/0]\n",
              "    </div>\n",
              "    <table border=\"1\" class=\"dataframe\">\n",
              "  <thead>\n",
              " <tr style=\"text-align: left;\">\n",
              "      <th>Step</th>\n",
              "      <th>Training Loss</th>\n",
              "    </tr>\n",
              "  </thead>\n",
              "  <tbody>\n",
              "  </tbody>\n",
              "</table><p>"
            ],
            "text/plain": [
              "<IPython.core.display.HTML object>"
            ]
          },
          "metadata": {},
          "output_type": "display_data"
        },
        {
          "name": "stderr",
          "output_type": "stream",
          "text": [
            "***** Running evaluation *****\n"
          ]
        },
        {
          "name": "stdout",
          "output_type": "stream",
          "text": [
            "{'accuracy': 0.9381898454746137}\n"
          ]
        }
      ],
      "source": [
        "model = SetFitModel.from_pretrained(\"BAAI/bge-small-en-v1.5\")\n",
        "\n",
        "args = TrainingArguments(\n",
        "    num_iterations = 5    # Modify the few-shot defualt value\n",
        ")\n",
        "\n",
        "trainer = Trainer(\n",
        "    model=model,\n",
        "    args=args,\n",
        "    train_dataset=train_dataset,\n",
        "    eval_dataset=test_dataset,\n",
        ")\n",
        "trainer.train()\n",
        "\n",
        "metrics = trainer.evaluate()\n",
        "print(metrics)"
      ]
    },
    {
      "cell_type": "markdown",
      "metadata": {
        "id": "T1IN4bdMRmXd"
      },
      "source": [
        "Question"
      ]
    },
    {
      "cell_type": "markdown",
      "metadata": {
        "id": "AGnPC1oNisyL"
      },
      "source": [
        "**Question**: Is it possible to further distill to a tiny MLP model (~1M parameters and even lower) without any accuracy loss?\n",
        "\n",
        "If yes, it means that we can deploy a model that produces GPT-4 performance on tiny devices such as smart watch.\n",
        "\n",
        "Following my blog \"[Best Practices for Text Classification](https://www.linkedin.com/pulse/best-practices-text-classification-distillation-part-34-wasserblat/)\" we need first to estimate the Word Order Sensitivity (WOS) of the dataset.\n",
        "\n",
        "If the WOS is relatively small it means that the prediction is not sensitive to word order hence a non-contextual model like MLP should be sufficient.     "
      ]
    },
    {
      "cell_type": "markdown",
      "metadata": {
        "id": "XFH7f7J-mXD_"
      },
      "source": [
        "Calculate Word Order Sensitivity (see more details by [Thang et al.](https://arxiv.org/pdf/2012.15180.pdf))"
      ]
    },
    {
      "cell_type": "code",
      "execution_count": null,
      "metadata": {
        "id": "BO0fljp5ptKK"
      },
      "outputs": [],
      "source": [
        "x_test = test_dataset['text']\n",
        "y_test = test_dataset['label']\n",
        "\n",
        "label2num = {\n",
        "  'negative': 0,\n",
        "  'neutral': 1,\n",
        "  'positive': 2\n",
        "}\n",
        "\n",
        "y_test_num = np.array([label2num[l] for l in y_test])"
      ]
    },
    {
      "cell_type": "code",
      "execution_count": null,
      "metadata": {
        "id": "0Zl6ZU6fmYuW"
      },
      "outputs": [],
      "source": [
        "# Regenerate random shuffling\n",
        "x_test_sh = []\n",
        "for sen in x_test:\n",
        "  sen_list = sen.split(' ')\n",
        "  random.shuffle(sen_list)\n",
        "  x_test_sh.append(' '.join(sen_list))"
      ]
    },
    {
      "cell_type": "code",
      "execution_count": null,
      "metadata": {
        "colab": {
          "base_uri": "https://localhost:8080/"
        },
        "id": "dOPBp1czuBms",
        "outputId": "1849e697-a2c6-4240-dd99-09d0ba4c4e13"
      },
      "outputs": [
        {
          "name": "stdout",
          "output_type": "stream",
          "text": [
            "No shuffle test accuracy is 0.94.\n",
            "\n",
            "Shuffle test accuracy is 0.84.\n",
            "\n"
          ]
        }
      ],
      "source": [
        "# No shuffle test Accuracy\n",
        "pred_scores = model.predict_proba(x_test)\n",
        "pred_bin = np.argmax(pred_scores,1)\n",
        "print('No shuffle test accuracy is {:0.2f}.\\n'.format(accuracy_score(pred_bin, y_test_num)))\n",
        "\n",
        "# Shuffle test Accuracy\n",
        "pred_scores_sh = model.predict_proba(x_test_sh)\n",
        "pred_bin_sh = np.argmax(pred_scores_sh,1)\n",
        "print('Shuffle test accuracy is {:0.2f}.\\n'.format(accuracy_score(pred_bin_sh, y_test_num)))"
      ]
    },
    {
      "cell_type": "code",
      "execution_count": null,
      "metadata": {
        "colab": {
          "base_uri": "https://localhost:8080/"
        },
        "id": "p3C0QpCpvlWM",
        "outputId": "a2207148-b29d-46cb-8645-f6e1727a646a"
      },
      "outputs": [
        {
          "name": "stdout",
          "output_type": "stream",
          "text": [
            "WOS is 0.197.\n",
            "\n",
            "The WOS implies that in average 80.3% of the sentences in the FSA dataset are rather simple.\n",
            "\n"
          ]
        }
      ],
      "source": [
        "# SetFit True and Negative positive indexes\n",
        "True_test_idx = [i for i, x in enumerate(y_test_num==pred_bin.numpy()) if x]\n",
        "\n",
        "# SetFit's p shuffle on of the above\n",
        "p=accuracy_score(list(np.array(y_test_num)[True_test_idx]), list(np.array(pred_bin_sh)[True_test_idx]))\n",
        "\n",
        "num_labels=3\n",
        "t=100-100/num_labels\n",
        "WOS=(100-p*100)/t\n",
        "print('WOS is {:0.3f}.\\n'.format(WOS))\n",
        "print('The WOS implies that in average {:0.1f}% of the sentences in the Finacial Sentiment Analysis (FSA) dataset are rather simple.\\n'.format(100-100*WOS))"
      ]
    },
    {
      "cell_type": "markdown",
      "metadata": {
        "id": "yYEq4UIzwKvp"
      },
      "source": [
        "Great, we got relatively small value of WOS (<0.2),  so let's try to train an MLP based on Mixtral's pseudo-labeling"
      ]
    },
    {
      "cell_type": "markdown",
      "metadata": {
        "id": "zboMpVdATH1M"
      },
      "source": [
        "Train the MLP using Mixtral pseudo-labeling data"
      ]
    },
    {
      "cell_type": "code",
      "execution_count": null,
      "metadata": {
        "id": "zp_kF1cfTccO"
      },
      "outputs": [],
      "source": [
        "x_train = train_dataset['text']\n",
        "y_train = train_dataset['label']"
      ]
    },
    {
      "cell_type": "code",
      "execution_count": null,
      "metadata": {
        "colab": {
          "base_uri": "https://localhost:8080/"
        },
        "id": "hm0piYzDTgiA",
        "outputId": "97fa3720-5702-4519-e50f-a630d9e4086c"
      },
      "outputs": [
        {
          "name": "stdout",
          "output_type": "stream",
          "text": [
            "0.8167770419426048\n",
            "              precision    recall  f1-score   support\n",
            "\n",
            "    negative       0.71      0.64      0.67        61\n",
            "     neutral       0.84      0.97      0.90       265\n",
            "    positive       0.80      0.59      0.68       127\n",
            "\n",
            "    accuracy                           0.82       453\n",
            "   macro avg       0.78      0.73      0.75       453\n",
            "weighted avg       0.81      0.82      0.81       453\n",
            "\n"
          ]
        }
      ],
      "source": [
        "# sklearn's MLP\n",
        "model_mlp = make_pipeline(CountVectorizer(ngram_range=(1,1), max_features=5000), MLPClassifier(random_state=1,early_stopping=True,hidden_layer_sizes=(64))).fit(x_train, y_train)\n",
        "predicted = model_mlp.predict(x_test)\n",
        "print(accuracy_score(y_test, predicted))\n",
        "print(classification_report(y_test, predicted))"
      ]
    },
    {
      "cell_type": "markdown",
      "metadata": {
        "id": "vujUVg9NwiRx"
      },
      "source": [
        "Woops, not what we expected!\n",
        "<82% accuracy is nice but substantially far from a GPT4/Mixtral performance\n",
        "\n",
        "What went wrong?"
      ]
    },
    {
      "cell_type": "markdown",
      "metadata": {
        "id": "2srPPMN9xk_j"
      },
      "source": [
        "Two major issues:\n",
        "1. The teacher (Mixtral) model pseudo labels are hard descisions (integer numbers that represent the classes) rather than soft decisions (probabilities).\n",
        "This limits the ability of the MLP (the student) to mimic Mixtral (the teacher)\n",
        "in Moritz Laurer's blog Mixtral/GPT4 produces only hard decision. It was ok for a relatively large models like RoBERTa/SetFit but not sufficient for a tiny model such as MLP.\n",
        "\n",
        "2. Usually distillation into tiny models requires much more pseudo labeled data for training.\n",
        "\n",
        "Solution: We can try to generate soft decision with GPT4/mixtral and this time also augment with more available un-labeled data. But GPT4/Mixtral regeneration is time consuming, need proper prompts design, on top of that the quality of GPT4/Mixtral produced prbabilities is doubtful. Other much simpler solution would be to utilize the distilled SetFit (or RoBERTa) model to generate  prediction probabilities.     \n"
      ]
    },
    {
      "cell_type": "markdown",
      "metadata": {
        "id": "BsAULdKaCAY2"
      },
      "source": [
        "Train MLP with SetFit prediction probabilities data"
      ]
    },
    {
      "cell_type": "code",
      "execution_count": null,
      "metadata": {
        "id": "L6giHuSxTXRc"
      },
      "outputs": [],
      "source": [
        "# Utilaize the full Financial data that is available from Hugging Face's Hub.\n",
        "dataset = load_dataset(\"financial_phrasebank\", \"sentences_50agree\", split='train')"
      ]
    },
    {
      "cell_type": "code",
      "execution_count": null,
      "metadata": {
        "id": "fmzdV5GMW2gU"
      },
      "outputs": [],
      "source": [
        "# Assign only the text data. We don't care about the human labels since SetFit will generate the pseudo prediction probabilities.\n",
        "x_train_50agree = dataset['sentence']"
      ]
    },
    {
      "cell_type": "code",
      "execution_count": null,
      "metadata": {
        "id": "yWa8S3xdXFkf"
      },
      "outputs": [],
      "source": [
        "# Predict probabilities (generate with the distilled SetFit)\n",
        "y_train_50agree_predict = model.predict_proba(x_train_50agree)"
      ]
    },
    {
      "cell_type": "code",
      "execution_count": null,
      "metadata": {
        "colab": {
          "base_uri": "https://localhost:8080/"
        },
        "id": "jdefFpYZXxYO",
        "outputId": "bb585289-c89f-42f8-844b-637d2c9adde2"
      },
      "outputs": [
        {
          "name": "stdout",
          "output_type": "stream",
          "text": [
            "0.9403973509933775\n",
            "              precision    recall  f1-score   support\n",
            "\n",
            "           0       0.89      0.93      0.91        61\n",
            "           1       0.96      0.97      0.96       265\n",
            "           2       0.93      0.89      0.91       127\n",
            "\n",
            "    accuracy                           0.94       453\n",
            "   macro avg       0.93      0.93      0.93       453\n",
            "weighted avg       0.94      0.94      0.94       453\n",
            "\n"
          ]
        }
      ],
      "source": [
        "# Train MLP with the predicted probabilities\n",
        "# Please note that this time we utilaize sklearn\\MLPRegressor since we need to mimic the teacher soft decision (not the numeric labels)\n",
        "# Note that we are testing 2 versions of MLP  - 128K params and 1.28M params.\n",
        "from sklearn.neural_network import MLPRegressor\n",
        "model_mlp_x = make_pipeline(CountVectorizer(ngram_range=(1,1), max_features=5000), MLPRegressor(random_state=1, early_stopping=True,hidden_layer_sizes=(256))).fit(x_train_50agree, y_train_50agree_predict)\n",
        "predicted = model_mlp_x.predict(x_test)\n",
        "print(accuracy_score(y_test_num, np.argmax(predicted, axis=1)))\n",
        "print(classification_report(y_test_num, np.argmax(predicted, axis=1)))"
      ]
    },
    {
      "cell_type": "markdown",
      "metadata": {
        "id": "Y9UGazXG4_eZ"
      },
      "source": [
        "**Results:**\n",
        "\n",
        "hidden_layer_sizes = 128\n",
        "\n",
        "max_features=1000\n",
        "\n",
        "Accuracy = 93\n",
        "\n",
        "Model Size 128K\n",
        "\n",
        "***\n",
        "\n",
        "hidden_layer_sizes = 256\n",
        "\n",
        "max_features=5000\n",
        "\n",
        "Accuracy = 94\n",
        "\n",
        "Model Size 1.28M parametrs"
      ]
    },
    {
      "cell_type": "markdown",
      "metadata": {
        "id": "XI0oN6Ht4ed6"
      },
      "source": [
        "Nice. We were able to achieve Mixtral/GPT-4 performance with a tiny MLP model (:\n",
        "\n",
        "MLP is super fast for inference and training on CPU, running on your edge device (marginal cost) and human labels are not needed (zero shot).  "
      ]
    },
    {
      "cell_type": "markdown",
      "metadata": {
        "id": "SwlmCOuaFbuC"
      },
      "source": [
        "![MLP.png](data:image/png;base64,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)\n"
      ]
    },
    {
      "cell_type": "markdown",
      "metadata": {
        "id": "VEal-LWheky3"
      },
      "source": [
        "Performance Summary vs. Model size (# of parameters)"
      ]
    },
    {
      "cell_type": "markdown",
      "metadata": {
        "id": "6po6nn1XhVeZ"
      },
      "source": [
        "![Screen Shot 2024-03-05 at 9.29.07.png](data:image/png;base64,iVBORw0KGgoAAAANSUhEUgAAAqUAAAHZCAYAAAC/0EIVAAAKs2lDQ1BJQ0MgUHJvZmlsZQAASImVlgdUE9kax+/MpBdaQgSkhN4E6VVK6AEEpIONkEAIJcZAUBEVkcUVWFFEpKis4CKIgmsBZC2IBduiqBTrgiwK6rpYEBWVHeAR3r533nvn/ed8ub/z5c4339y595w/AJQ+jkiUDMsBkCJMEwd7uzEjo6KZ+GEAoRcR0IEph5sqYgUF+QNUs+Pf9aEHnYvqrslUrX///79KnheXygUACkI5lpfKTUH5JBptXJE4DQAEDaC9Jk00xaUo08VogygfmWL+DLdNcewM35ueExrsjvIwAAQKhyPmA0B+j+aZ6Vw+WodCR9lMyBMIUfZA2ZmbwOGhnIPygpSUVVN8DGWD2H+qw/9bzVhpTQ6HL+WZd5kWwUOQKkrmrPs/l+N/KyVZMvsMLTQoCWKfYHRUQtesNmmVn5SFsQGBsyzgTc+f5gSJT9gsc1Pdo2eZx/Hwm2VJUhhrljniuXsFaezQWRavCpbWFyYH+Evrx7GlHJfqGTLL8QIv9ixnJIRGzHK6IDxgllOTQvzm5rhL82JJsLTneLGX9B1TUud643LmnpWWEOoz10OktB9enIenNC8Mk84XpblJa4qSg+b6T/aW5lPTQ6T3pqEbbJYTOb5Bc3WCpOsDPIAn8EcvJggDFsAWmAN7NOeeFrd2ak8D91WidWIBPyGNyUJPTRyTLeSaLmBamFlYATB1Bmc+8bu+6bMFMQhzOREDAHt03yLVc7lYFQCa0X2hTJzL6RwCQDYSgKYsrkScPpPDTP1gAQnIomdbGagDbWAATND+bIAjcEU79gWBIBREgRWACxJAChCDNSATbAa5IB/sALtBOagE1aAWHAXHQTM4Ay6AK+AGuA26wUPQD4bASzAKPoAJCILwEBWiQcqQBqQLGUMWkB3kDHlC/lAwFAXFQHxICEmgTGgLlA8VQeXQAagO+hk6DV2ArkFd0H1oABqB3kKfYQSmwHRYDdaDF8J2MAv2g0Ph5TAfXg1nwDnwdrgUroKPwE3wBfgG3A33wy/hMQQgZISBaCImiB3ijgQi0Ug8IkY2InlICVKFNCCtSAdyF+lHXiGfMDgMDcPEmGAcMT6YMAwXsxqzEVOAKcfUYpowlzB3MQOYUcw3LBWrijXGOmDZ2EgsH7sGm4stwdZgT2EvY7uxQ9gPOByOgdPH2eJ8cFG4RNx6XAFuH64R14brwg3ixvB4vDLeGO+ED8Rz8Gn4XHwZ/gj+PP4Ofgj/kUAmaBAsCF6EaIKQkE0oIRwmnCPcITwnTBDliLpEB2IgkUdcRywkHiS2Em8Rh4gTJHmSPsmJFEpKJG0mlZIaSJdJj0jvyGSyFtmevIQsIGeRS8nHyFfJA+RPFAWKEcWdsowioWynHKK0Ue5T3lGpVD2qKzWamkbdTq2jXqQ+oX6UocmYyrBleDKbZCpkmmTuyLyWJcrqyrJkV8hmyJbInpC9JftKjiinJ+cux5HbKFchd1quV25MniZvLh8onyJfIH9Y/pr8sAJeQU/BU4GnkKNQrXBRYZCG0LRp7jQubQvtIO0ybYiOo+vT2fREej79KL2TPqqooGilGK64VrFC8axiPwNh6DHYjGRGIeM4o4fxeZ7aPNa8uHnb5jXMuzNvXGm+kqtSnFKeUqNSt9JnZaayp3KS8k7lZuXHKhgVI5UlKmtU9qtcVnk1nz7fcT53ft784/MfqMKqRqrBqutVq1Vvqo6pqat5q4nUytQuqr1SZ6i7qieqF6ufUx/RoGk4awg0ijXOa7xgKjJZzGRmKfMSc1RTVdNHU6J5QLNTc0JLXytMK1urUeuxNknbTjteu1i7XXtUR0NnsU6mTr3OA12irp1ugu4e3Q7dcT19vQi9rXrNesP6Svps/Qz9ev1HBlQDF4PVBlUG9wxxhnaGSYb7DG8bwUbWRglGFUa3jGFjG2OB8T7jrgXYBfYLhAuqFvSaUExYJukm9SYDpgxTf9Ns02bT1wt1FkYv3LmwY+E3M2uzZLODZg/NFcx9zbPNW83fWhhZcC0qLO5ZUi29LDdZtli+sTK2irPab9VnTbNebL3Vut36q42tjdimwWbEVsc2xnavba8d3S7IrsDuqj3W3s1+k/0Z+08ONg5pDscd/nQ0cUxyPOw4vEh/Udyig4sGnbScOE4HnPqdmc4xzj8697tounBcqlyeumq78lxrXJ+zDFmJrCOs125mbmK3U27j7g7uG9zbPBAPb488j05PBc8wz3LPJ15aXnyveq9Rb2vv9d5tPlgfP5+dPr1sNTaXXcce9bX13eB7yY/iF+JX7vfU38hf7N+6GF7su3jX4kcBugHCgOZAEMgO3BX4OEg/aHXQL0twS4KWVCx5FmwenBncEUILWRlyOORDqFtoYejDMIMwSVh7uGz4svC68PEIj4iiiP7IhZEbIm9EqUQJolqi8dHh0TXRY0s9l+5eOrTMelnusp7l+svXLr+2QmVF8oqzK2VXclaeiMHGRMQcjvnCCeRUccZi2bF7Y0e57tw93Jc8V14xbyTOKa4o7nm8U3xR/DDfib+LP5LgklCS8ErgLigXvEn0SaxMHE8KTDqUNJkckdyYQkiJSTktVBAmCS+tUl+1dlWXyFiUK+pf7bB69+pRsZ+4JhVKXZ7akkZHzc5NiYHkO8lAunN6RfrHNeFrTqyVXytce3Od0bpt655neGX8tB6znru+PVMzc3PmwAbWhgMboY2xG9s3aW/K2TSU5Z1Vu5m0OWnzr9lm2UXZ77dEbGnNUcvJyhn8zvu7+lyZXHFu71bHrZXfY74XfN+5zXJb2bZveby86/lm+SX5Xwq4Bdd/MP+h9IfJ7fHbOwttCvfvwO0Q7ujZ6bKztki+KKNocNfiXU3FzOK84ve7V+6+VmJVUrmHtEeyp7/Uv7SlTKdsR9mX8oTy7gq3isa9qnu37R3fx9t3Z7/r/oZKtcr8ys8/Cn7sO+B9oKlKr6qkGledXv3sYPjBjp/sfqqrUanJr/l6SHiovza49lKdbV3dYdXDhfVwvaR+5MiyI7ePehxtaTBpONDIaMw/Bo5Jjr34OebnnuN+x9tP2J1oOKl7cu8p2qm8JqhpXdNoc0Jzf0tUS9dp39PtrY6tp34x/eXQGc0zFWcVzxaeI53LOTd5PuP8WJuo7dUF/oXB9pXtDy9GXrx3acmlzst+l69e8bpysYPVcf6q09Uz1xyunb5ud735hs2NppvWN0/9av3rqU6bzqZbtrdabtvfbu1a1HXujsudC3c97l65x753ozugu6snrKevd1lvfx+vb/h+8v03D9IfTDzMeoR9lPdY7nHJE9UnVb8Z/tbYb9N/dsBj4ObTkKcPB7mDL39P/f3LUM4z6rOS5xrP64Yths+MeI3cfrH0xdBL0cuJV7l/yP+x97XB65N/uv55czRydOiN+M3k24J3yu8Ovbd63z4WNPbkQ8qHifG8j8ofaz/Zfer4HPH5+cSaL/gvpV8Nv7Z+8/v2aDJlclLEEXOmrQCCBhwfD8Bb1CdQowCg3QaAJDPjkacFzfj6aQL/iWd89LRsAKhuAyA0CwB/dCxDRz00ZF0BCEIj1BXAlpbS+IdS4y0tZmqRm1FrUjI5+Q71hnhDAL72Tk5ONE9Ofq1Bm30AQNuHGW8+JTnU/7My3azDIh5cdo4E/6K/ABvhBiHpzOUcAAABnWlUWHRYTUw6Y29tLmFkb2JlLnhtcAAAAAAAPHg6eG1wbWV0YSB4bWxuczp4PSJhZG9iZTpuczptZXRhLyIgeDp4bXB0az0iWE1QIENvcmUgNS40LjAiPgogICA8cmRmOlJERiB4bWxuczpyZGY9Imh0dHA6Ly93d3cudzMub3JnLzE5OTkvMDIvMjItcmRmLXN5bnRheC1ucyMiPgogICAgICA8cmRmOkRlc2NyaXB0aW9uIHJkZjphYm91dD0iIgogICAgICAgICAgICB4bWxuczpleGlmPSJodHRwOi8vbnMuYWRvYmUuY29tL2V4aWYvMS4wLyI+CiAgICAgICAgIDxleGlmOlBpeGVsWERpbWVuc2lvbj42Nzc8L2V4aWY6UGl4ZWxYRGltZW5zaW9uPgogICAgICAgICA8ZXhpZjpQaXhlbFlEaW1lbnNpb24+NDczPC9leGlmOlBpeGVsWURpbWVuc2lvbj4KICAgICAgPC9yZGY6RGVzY3JpcHRpb24+CiAgIDwvcmRmOlJERj4KPC94OnhtcG1ldGE+Ck+yRv4AAEAASURBVHgB7N0NfBTVvTfwH+RlQ5b3RYMGCRowCqhEoylVMCUogikoxXqLL7QF+pFWbqtP8dYq13LV1gt99GrawlPwatRiaSltKhqpBoFYaRQNVoECRgkQJUAgwWzIJht4zn82J5ns7mwSyO5Okt/5mMzMmTNnznxncf85M3Om12mVwEQBClCAAhSgAAUoQIEoCvSO4r65awpQgAIUoAAFKEABChgCDEr5QaAABShAAQpQgAIUiLoAg9KonwI2gAIUoAAFKEABClCAQSk/AxSgAAUoQAEKUIACURdgUBr1U8AGUIACFKAABShAAQowKOVngAIUoAAFKEABClAg6gIMSqN+CtgAClCAAhSgAAUoQIFYElAg3AKehkaU7KnGgSMnjV1dcE4fpF88AI64mHDv2lb1N1Z9Ae+nxThVcwy9+w5G7EWZiBl4nq3a2NUa4/V6UVFRgRMnThhN79+/P5KSkhAb2w3+1+apxO5PjmLgiDQkOcNzZo7WNODj8hqcONmI/n1iMDa5L4b0jQvPznpyrY3q/31VhUDtbp9CYhowMBuI6dOTVXjsFAgQ6Ab/5w44pi6V0Z3fXSDHtm7L53jpjQNw1zW2Oi/OhBjcdeNwzJx4Pnr16mVa50XZti3Y8uFuHKupx+AL0jEx+6tIGXDmH1VP+Xa8+vangOm7tgEDkTV9Ig68/ARW/NOFxY8tQIrD1IxOnD1dVwP3a0tRv319QK3x43LgnPYAeiX0bbWudOsGbPvC3dTkeAw870JcceUYuDrQxoA6hgzDmKvGtQpwWpfxNcFnMwlJirz1elM7Yiqx5a9v4qgZtfkIGtQX7lhMnzQGZ37WmisLOiOfrd27d+Ojjz5CQ4PanynFxcXhsssuQ1pamt9nSxXyqna/vhlfuOMxNusGjEkKAlpdig2F21CF8zBZfUZc6iA8ZRvx8IMFmPyLn2FKSpgiRNMxyKz7k9ew5PECZD+wHHPHDfBbe3aLtfWNeHHrIRTtrQ6oaMKoAbhr/FAkxgf+0Vi2bQP+UVqFc1Kvw6SM5IBtlRS2b3wDu4/UI+26mzEuWXy92L7+ZbyPy3BnzjiYxY369rd8zocMH4UrxqUh2D/38u0b8PrWg7hi+p3IMOr17d5bXY53it7GjtJDqEdfXHLtZEzJSDG1za3atAFbPzqAGpU7+ILLcNOUSUg2TmOwtrmxbf06fFh/Ke6cmdGqvaZK2zcr76Yp/x9g38+ARt8fTs0bxvQHRqj85B9BfVCbs2XGjs5n1qZWh8UFCrQpEK7vjDZ33JMLdOdAVJ9XOcb/Xr0XG0uO6KxWUwlSV/z1M+w5UIP/mD0KvXv77iTZsWYJHs8vNcomqt+1xcUoqOiP1QvGtdo+2IIRODyqAofFrQOHTzY+i7UFlX6buJA2JROl7+5EbaULNV61Wn1bWtXht3G7F0/Xn8SJ576Hxi/+FXQbCVQbKz5B/7nPole87jVx453VeQhoMkbjoeUPY0y74hOrOlLx0MpHMcb4QrYqk4yx6ks7KdZqvWrH/9yKV9bmozzoUanM5DhMCVNQKp+trVu3Yt++fUH3LkHqBx98gGPHjmH8+PGtA1PPAfxx9VrIpyF/Wz1WLpsJ/xBz6/O/QF5xrSohnxFfUOqtKVfHWo6Dx9UHxRzv+LfAW4blD/4S9ZN/hB9OSfVf27Hl2HijfLzpj6mOVRC8dF3DKfz81TLsq6wLWkAC1QPHPHg4ZwQS4sx3eLmxJU9/Lt9G/+W5yPD7LLp3/AFLVxUY9bpqLkLuXPl368HuDQUoVJ2Fs1oFpeb6zE1JxyMrFyFNnxh3Gdb95pdYW9L0b3jirJag1LMbSxYsge//GL46iosL8fbsR/BoTprKcGP9Y/OxeqeaTUxGsjqHJer/KYVrP8Ky1T9Uy4Ft27HmCTwp/w9KT8Ecc7M6Oi8B6b/uBg6/FHxLCVJL7we+/AC45AVTYGp2sYmzcjyzcx/80JlLASsBBqVWMmHIbysYbWt9GJoUtirXbS5H4QeHA+pv3SsKI2gdNcyJb1yvel3UF/pr8mWQOAG/+LWv57K6bBveP3JOQD1BM+qOoLy2HIelO8SUYuMT1FIyHlj+C0iHk7riq1KsusQLjHtqJW7yxGKA/gK0qMNUXYdmazc8ZRmQ6ookYJVyzq//VGfBKU12zcDy3NsxQHqf1j2DpWtL8Pxfd2DZXWOay4WaCahjzTIszd+JP79VijE5voCpdZnA2lqvN7Vjw61Y9sILqg9MHKuxZtEC5NdNRW7uXXApYCM/sLpOyZEeUquA1LwDKTN48GBccsklLdmxcaqPHEZQivK3UFwxHZOkS1gn93asMwJSyUho7gd2jvkWVi6fCUfzB0Vv4DdtrMHOchU8HQ4e8PmVjsri6uIKy4BUN0gC1pffrcB3rm19e4mzGa8SrxeWImOmOfD24O0/+wJSqSfBFE3HyecZ8QE9560+X95qbPtTrgoIS7Bq/W4su90XVL74wwdRUOtCZnoyikvKVS3mFIsR6dn4xuxZqld2ACq3r8HCpfko3fAuqlVQOsC9D5tVQJo4YSFWLBhv7H/bs4vwZGExSko9SFbNN7etetuLvj+KXeqzvGhiQHvNe25zXnpIrQJS88ZSpt+VwLD7mnPt5wycaZuaD4ozFGiHgPnP4HYUZ5EzEZBgM1jAqfP1VOrW8115WlfvxYvqkn2w5H9cUkYu78t9p1Bf6EYY2ycOCQ7f1gNSMkyXCSUoehrzZs/GbONnIZ7d6OsjKV33GL6zJN/YqOCpH6r187Bmt9tXSdPvOOM+QwmifAGpZJe+/hQWzH8G6vsJ7amjVYVtLJz68gg87/+ljVK+1VJOyvsnX7jkwLibb4D0HLcKdTyqB+npxU0WYiIeTfesmSpqruMr44zc6uOtajHyTGGZacuW2eY6zO1odoxtvs3AiD2a89X5Wv8sFs7T52s2Fi1bhwrjj4KWujsyJ/eQyiX79iYpK9uYkxx9YnKy8qzEn//2sXkVSt9ar/rSXJgxO1vltzh5Sl/H/AXz8dePtuMx+ewtXuMLbFWp8i3LjXPwu02vYd53HjfyKwueMj6ni9f4zoendJ0qsxjrN6igyfjsLsbuY4Hnb/mGwPPXqoFnuXC8tgGbdx9vVy2b/nUcUr5VEpLk0RjtAnau/RsqzCsrivFHFQCmTpgKCVVb9MyFgs8bn6/YAci4Jcf4nEP9P8SXHLhm7kL8YmUufvDN8YEbO1Ixd9FcIyCVla5xWZgg/1D8QtfaGtVN25T6GHfKJKJ/3xidpSJop7qzYxseflKC6tF45An1x1XL2o7PyT2k+37W/u2krGyjk92cpV1hapM+ZE4pIAIMSsP8OZAgzD/pwEzy9Xx3mpbsqYL7pPpSkWM3//hDNB1/jSorD0LBkYabLlWZlRtx38Kl2LK71VceSternr61xeo7YyoW3j8PmcmVKFy12Ag++150NdKbvkWS065Cdvb1SO3rC6X0bv2+Xo1sr1vuqTuML1Vz21OHrqs904a9fwdO6S/XNrZQ5YzyrYrVG98DHncFNv7v7yAXlJPO1feeqt7JHz+ItcWlKgiYgXlzZiA1UTyWYPm2psucRl01OFrtRmXFbry4SgLkREyeOLLVXnDyGA6WV6C8rBxlZWWodPu3OVQ7WlfVasm9C0tXFwJp2Zgzbw6yVSRTXrIWv3rd94dEq7LtXJCHmvzvIQ21qZSVbfzTeRlfxw2j1Uet4A2UNh9uBf4m13lTc5B16aBWm3i9vj9w3L0vRM5U1atfmo//3aBuXvDuwP+sKFLR0FTcdHUapk1I9wVVyWm4Pjsb6cN958vrlU9fKVbn5eNkqgrqUs/HydLXjPOXOXVW8/kryluCjeXNDWrVhs5Y+FDdLtMY+L+koFVLOSkfkBJGIycnU2UX4W875N+PL+342yvqM5qMGdOu7PB9mPpfqvfQQeNzXgf9rzUWaeoWDLmN11On8/Qeg0zV5/x9+Ycy0Kn6uVVyjsD16jyjZBXue3oNNqirBY/nlyMxfTYyzT3k5Rvw2M+eVH9QuDBv2U9abh2QOs4kyUNN/veQhqpHyso25mRH5zC0yXzInKeA/n8BJcIg4B+Qmpf1vJ7K7s3zwZbD0MSwVLn/cK06llNG3a0u1xsBuumGftPN/QeO1CLz9CBMWvRzlD/+GF4v3Y4VS9RP8gQ89PB8dQ9kOdZLwKC+/P/vw3epS9rA+HHJWHT3Erz97j7cftcU3PdjN+5+cC0ypn8Xt6c1dbUarZCvp1IsnT/bWDJ+qXqWq0vNOslte0njQtWhS7Z/2lh5oP2FVcmA8pUFqldNem58KXHCPVg0JcVY8JQWIl/Fnq7s+/Ho3Awjb1LGcCxcmIuiNZtxd8YU30aVhXhwgfnLLhFJA802qlhtEZYsUoGVTtkPYLVxL2BTRoh26E2CTp1jsXLlC3A6m/43M2kk9qnewqogPbVBtw+SqZ+yD7LKMku2SVY9o+ZUF5eMrJsmIH+nCqzeq8SC8S5U7/ibCrOACTO+okKT183FW82Pu+teZBY8iOK8J7BofaXqWQXm/PibcDkdmLlgJkqKSlCXMR13GZefW22KxNGz8fTD6uE2yfa4sfKFBdA8E0cAd6ve/vIqFQCrS9HhSBUn6jtUbdDyqsds1HWTkZyn7vf+8z/wrTFTEOstxZ8LlMToearXMgFrOrKXk/vxwY4dQMXHWLcq39jyuisv7EgNTWU92KhuKZGYNHvG+KbA2Imch3+BXbMfVPeS5iPPKJmM+/59UkvgbESv6jyqf0+JmbMxKbkTvhb1U/YdOQrZxpXTsoUdnTu7TS1HyzkKGAKd8K+PksEErAJMnd/WVOrUZYLVb+e806dUQNrUQxzYKXO65cETvVIFp/pYT8cPx13/tRI37t6C3z/7//BueREeX1CPZSsn46ActAqQHl74Lk7Kla7aSuMLyFXv60HRPSn1XvV/zpavHNlKpURkzpiGVBV91ksvjDPN15PiW9n8O3QdzcUiM5OYjjl3X45P3/gjikprMWiwq/mofD1v6p7Yq0a1tMU1Gteo3uICc49SYiYeWHwL+nlr8Mk7ryGvoARL/8+zeGrVXCTpLV0T8MjDM9G36TJ3wsDmNb4SIdqhqwg+jYWjbjc2rNuI9/Z8rnq6qowHUlqHh8G3DHduXYMXSRmT1GXmIhSt24z546fjH7+XPwBGY5p6eqcx5FX0FMx7aCqK1ZPxEsi4VBA/RQ/d4KkzerflFpZg6YbbvtbyYJXDiZodW7DuzWLsOXoCdWrIsC6R1Ocr1jkGU9OBVSXrsd09BaP+uR7qT0ZMvfVadR/mvo4dRm0Jch8vadrGhakLf4zb2/c0X6v9lK5/RrVHhaTpc3Bnhr74Xo31yx6F1J6cORWX458oKC7H499Z1vIwlfzvIjEVoweVYmdxLl7cPhp3dfJoB60a2t4FOzp3dpvaa8FyPUaAQWkYTrUOsKRq/3m9LFPzj7msuUwYmhf2Ks8bHK+OzddTqnfWC7qHtCkANXpJmwJUFZwOG5JgeEjPqhz/uRdPwA+XXoX1//k9vFyqHko4MNGoKnF0NnKuHtbqEm7/URfo3VhM5VtnEG76xkykRfATH+Nqq12tmxtQvs9wZE2cgikTM9B34UIU5K/A1sm5UJ16zSmg30uC9T7Nq9X8UIxKSTECodTUMeh/bB5yi/+lhkRSPcNGd52UHYxhamzP5kXT5sZsO9rhv4kseyu24p77co0/HEZnZmPsBfGoW1vQoXsN/euVcUg7moJuYwSNYzAtM1F5vIXCbU6sL5WO+Bzj4XrfxXrrPRlX45tWn1QjLPgno/PNP1Mt15vuby3f+DQWrVK3o6hL3hOmZiD+UJUKcqWfL3wpqX/rx4Ta2pNVeQm5M6fNUEFgPt7asAWlJXIcE3DjGNUL7wkekFvuy5WNZU/cqR5A88LhdJ7Rw0VyX+/i1Sr0lLoWTWn+4829469YrQLV1FkP4dGZY4wmfHXD01isenl9D1MN8zVrUCYWPjwDDy94EgVLf4nLlj9qPBRp2ea2Vsg4pB1NQbaxm7McUqe2qaNGLN/tBSL4Fd3tLY0D1AGl/9GaA1CZP6V6E+UBDJnKjyRdRs8bmU35er4rTNPUcEAJsV7UehqbmtsSkDZfzlfBZ69e6pbmXjFw9onFFSP747TqSSuv7oVhQwc2beeEy6WeWlC9hLHxMUbPZm11X2RNafnSCeYRHxs8JPB6VOl2fuKt6gi2P6u8uFHXqru21Q7bc1+pKmeU96tMvgAc6mLy9LnZ6suyEK+9uRvjTZeFP999SHWXNl3qrd6LdyWmGaS6g5tTnOmQPTjxpVGgea1vxlzGb1XTYlvtCLaV5+h+IyDNXLgcPxwvbaxGjQpKtwcr3M48GRhfxiFt732lUla2sUpX5kwDitci70m5sJuIe24ca1W0JV9dqv7tUtWravSufYGdRblYN+lyzGwew6g9D/m41ZPqEshlNg1NpL7sVe9soQrywpmuuKAvYtQ/x/bcVyrlpHywJJ+HAWOuQ2ZivuJbYfREjp59Y0vve7CN1ONwwf/59VW3gDrUH0UqoA2RHGrkBEn+/zYr1RPzi+S+3mQVkC6bq0L8lrTvg38aC+lXtQSJqdddAzXml8qXo2hKdW7EDsjAw/dMwH2qrqWPrcHyZTLyxRkmY2B89QdUe+8rlTFLZRu/ZCdn3bQza5PemlMKhBYI/v+I0NtwbTsFdICqg009bWxsRF1dHdxutzGVZb3OPNW7kbyulm64PA5/eOuw0WxfIKq+4dR/8stYVgFpTEw8esf1wbcmDVdfNL1R888/4T/+71tIHjcJ12dchPrd7+BPRpR1DcZeeBmGZLvUUC75+PHT6h6+ySp4qDyIv7+yHkO//ZhxuS+26Uvr7b/+AQMvP1fdI5qFccEGRw+CqS7oG+ls6vCvtne/c+C46hZ43lvrvypgWcpJeas0YOxkpKMQJfmvo+wbaUhJzVAXmvOxM38Jno67B9cPP4k31BiS6moypt6RbfR6GsdUWYK/rI9HXL0bB0regHouSj3IMx6jmrpFW5fx9bvK4PnXTVeDiwf5v0NAO/zKmL7mm/8AOLi9CFtVwLf9tVXGPZvmoMHqeK3yZeQEGRhfxiFtT5Kyod7u5Ei9HtmJa1EosXrqLa0ffgm6g0Zsy/sfIwibet/DuGvYB5i3IBdrl72AzFULkOwYBrlynF/we6w7NxPx/S9DzviUIDU5kTpa/cFVVIzXN27HV/p8ihW54Q1IpRGDEuOQdckgFO46HqRNrbOknJQPlnynPRk33ZCKYhnGTYWCN01IDVbUyPN9zrbipTUNiK+Xz1k94pOvah5yy3JDtUIGbf9IfbDd/3zNKPbxxlcxcG88hl19A9JQjP8wnphXq9RDgCXr1uBttTPZxWU33oJR16j7rdW9rmt/qYZcmzMNI2IrsfFPakxQlYadN8SY6l/y2U2aOB/3lLyPFer+08deTFPDr/lGrNBl2j2VNzWN+Jn6g/r+9m0iZYO83ckuzmNMf9d1tE3tA2ApCvgEfJ8vanSKgDl41PPmIFPmdQ9pTU0N5LJiv379OmXfdqvku8OH47u3XtVms57I246bv3KO4ZI4ehpmXq2GyXlvI1Zv32hsm5iciXt//AOj9yP5u49gds1/Y7X6wnhS/fhSKu4Z6OsZdaROwZz0t5BXUqB+gBkjrjOC0lhjIEK5hG+VEqA6a41kVYfVlm3lJ065D96DH4ccqzTmvEsg5UKm2BRMm5GsgtKPUFbpRUpSKhb9YiGWPZpr9FRJv4/09GXPe7Dpfji3b6xTdRdn/moJGiS5kJ59G+6eM6X5Ur0xTmSrMlLON3h+sKAUAe3wwRlBR0LrnjBn2k2Yk7kNeUWrkStPEBkPG5Wf1eV7aZ28qUkGxm9rrNIRI0YYZWUb/5Sgny5SJpNvU+G++sBM/caENvrqVC9d/afIK1QRkrpv8ZtyqRrjsWhWIZasLcLGHbNxl7oX8rrb1ANUqrdtbV6puh3gIRWUtuzdPFLnuG/ei/T3l6oRE9SPKpI6OhmVO2Ucztb/W/ZfbqntzOa+dU0SSg+fDDlW6QhXAqRcWylt8jS48nNxMvPrzR32epuE+Jbj8H3O1NjF6sn35pR+PmY1L1jNuPH+mjysNW1WWrTWuDd56oUTMDLhhNEbb2ytepnlCr5O8VfmYNyYW/DArEP4lRq1I+9JvTIRE2Y/gPkT5fhabtTwtTYWE3+wBDs+WYSigj9h9zfHodUzk7ry9kzlTU0yMH5bY5Wee6f6t6HKhkjRdh5jHqmgqZ3tbVOIw+IqCgQI9FKBUtfrhgs4jOhnmBn1vEz9f6RX1OPx4MiRIyEvK0b/iCLTgkOHDuHcc8+Fw+FQPacxRi9qr8Z6yGsQe6lgsq8KdCQ1X/aXedUN4q5T/RpqMFOno+WLzyiofnnUU83q7rSg63SZtqadUYfex5m8ZlRv256pR3rcFYdTDeweqNGeGsJbxqvOh9xm6FT3C8ol084YWF/+XZ3Ra0bDe6gttat7RdzqdhGHuizd1jnxqv8fNCJG/RtQJeWeU9UbHO50pq8ZDXe7wle/17gyJZ89+RyGX7jpSOTr9QxeMxo+B9ZMAXsLMCjtpPOjA1GpTs/rgFR6R2Ve3z8ql+5l7ET/YWo6qSldqpry8nIjOE9ISDBeNSqvG5UAVE91MKqncnDm+a50sI1VX8D7aTFO1RxD776DEXtRJmIGnteVDsF2bZX7suXfkh4qSq4+yD2koS7Z2+4gotigozUN+Li8BidONqJ/nxiMTe6LIX2DX7KPYjO7/q5lYHwZh1QPFSUPNRn3narL/EwUoECzAIPSZoqzm9GBqNSig1HzVAek+n5S6SEcri5x9/S0f/9+DB06FBKUSk+pBKPmgFQCUP2jrbpqUKrbzykFKEABClCAAoECfKNToMlZ5ZiDU6koWGCqA1SrHXlrjuLAgQP4osp8H6QXn334IY6qq3vdKWkLPTV7mY/T39W8jvMUoAAFKEABCnR9AQalnXAO/QMm/8DKvCzzOgAL3LUX2373UwwZNtJ4wvjSEUNx7Y+ewwEjEK3BH6//PnbWBG7VkRzv0W343R+3qfv6rFPNzucwcOBA5Pt2bF2wE9ZoC38jqdqcZ96V5DNRgAIUoAAFKNC9BBiUhvl8mgMrmddBmEz909EtT2LyD36DlZs/QVVVFY7uewfXP38fLvv1NqNo/wkjkKgeNK+rOoqjVYHRac3Ro/jiaFVLwKnebFQnT8Cot/kcVfnS71q1dyN+MP81fGHuhPVryAdrVxk5q17d0WqN3AsrD6pUqf3UNEe1dTj6xRc42pLRtE1Tfqve3lbVGQtmD3+rwNLMoQAFKEABClCguwowKA3jmfUPsszLgUFpDV5Z9nPc/Ot3cNsVvvHzYgeOxn+W/BVPnd+gAkr1ysb+J/DUv1+LoSNGYuSIYbhjxVZfAOo9gKe/PhDDRo7EpSNHYMjXnzZ6V2t2PK/u1xyCgUOGYeTIu/DetucwcurP1RE/icuG3oEPA+NaFfF+iGVPDsbLBb9G0U+ew2faR+XPVfd+Dhw4BCPUfl7aoYLfL7bgjoFDMfLSSzFy2BD8NH+nUbruwJv4us5Xvb1ff3pLS6Cs62uaioPZxX/erzgXKUABClCAAhTopgIMSjvxxEpApZP/vA62zD2Duqyeeo4B14xt/fBTwoUT8Z3bxvve035CDfZ4/W+MXtSD7/war6qg8VPVY1n3xW54bn4Z+1TvalXVJ/hp0SN4dY+KOON8b0hZ+Y70vL6CCRnfwcHNT6jdLVFlf4crgrys5Yu316Bowt2YOv4beALP46/bqnTzjOm3V76jemmrcM8VCVjzvelwqmWjV3fXy/jNnPnYqoof2X0AN7/8rpFfte+vKHpkGXZY9MyaPbSRv51ugDlf53FKAQpQgAIUoED3EIjYcG3dg6t9R2EOnvS8TM0/gT2lbdftOTYGd066wijY96J09abp3+CECvYSLpiM2zLUgPH/9V+oOHZQ5QJPNKhoNU4NlKhCy6mjfT2vxobGaC9WYyfWYeNzauur87Dns0/R79vAT17aih9kTDXG9Tuh9njf1NG+Mf7qdmOzipG/SH0J/yVjUifUql87UPRJFR6YfCsyCl7F0p8+j8+Plqn8/pDmBEvBekqlnHbT83ziPpge8yhAAQpQgALdR4A9pWE8l+bASnajl3Vw6r/rfoOBN7fqt+/41nq/+BAFW3aqy98qqhs8Auc0vwBK3qGjNlDpQMGPkD75JQxRr92783vfwfdVnoSjlmmMxZqj7+I3rwI3H3wVSx5+HJtrJwDPv4QdwS7zqxcEyrtQJkyZiVm3z8SMGd/DO++8i7suSUDBj0Zg8m/KcdnXb8f3vqfeLY4TFjtseZhJCmgfXdh/WedzSgEKUIACFKBA9xNgUHqW59Q/cPJfluolT+eb51vvui9ufmSJuo/zejy39YBxD2aNCkj/89Lr8a1/VDe/gcR4nWPrDfFlmQpkv30nvjF1PIb3qcJmtd64cB+scIMKV3ccxpEgl9P3bPh/2HFzHvJ++1v87ne/w29/+zKeGPMqnis64LdHtZhwEb55s3rH955aXHRFBtLOrcZLj/8ex1XLD72nmvP929QtAFegzxFfkB1qOG6ziXnevFPtp/P8l3U+pxSgAAUoQAEKdE0BXr6P4HkzB1Lmed2EgRk/xLt5Hlwz9TLoN6FP+P6vsev+8apI63s79TYyvXjWT/HNkVMx9Hm1MEb1bhopFrF9VGg6pnWfad/UG/D9MV9F+lB1+f2g+b7SKmxU3aT3/+Lp5gAYUIHyw9/HT36zBY99LV1dhDenBMz49WYU33w9hj7iy//2r9/ExX37YtAvn1KX+dPVHanSHOmWHaF+giezg3k+eGnmUoACFKAABSjQXQX4RqezPLPmQErmzT/6IR55i5P8yCsR5ae2thaff/45xo4dG3zvdWoIpxr1vH3CQAzs296/G7xq+CfVgZnQ3vLBd30muXU16vp+Ql+02rU6TuP19K0yA2v/+OOPcf755yMxMdF4NaS8HlLe7BTq7U66Ft5nqiU4pQAFKEABCnR9gchHMF3f7IyPwBxEmecDKlQB3hD107EUqwLSjm3RWaUTVO9oQFLBZRvxqLGJ2cE8H1AfMyhAAQpQgAIU6NYCvKf0LE+vfyDlvyzVS57O1/N6+Sx33+U39/fQy/4H5u/lv+xfnssUoAAFKEABCnQtAQalYTxf/oGTXpapXJ5mguFgdjGb6HxzHucpQAEKUIACFOieAgxKw3BezcGUnpep/PTu3dsIxBKida09DMd7NlWKg75/VBtJfdrNf/5s9sVtKUABClCAAhSwrwDvKe3EcyOBlH7wyX9eB1wylYd5+qr7MD/77DPjoaf6+nrjQSj9QJR+QMr80JSuV087sdmdVpUcmyTzscq8BOI6GNcPMcXHxxsPN/Xv39/w8N9GN0rXqevV+ZxSgAIUoAAFKNC9BBiUhvF8+gdaOkCTwKxPnz5GD6EEp/JEvgSkEozqqQSf5rcdSTPNAal5PoyH0K6qgwWO+tglGDUftw5OJTCPi4uDBKf+PaV6W3O97WoIC1GAAhSgAAUo0GUFbByUVmP7xkJs/agUNWq8zNT0SZg+Mc00hqYy91ZiW+FmvPevA6hHPIamXo2bcjIwwEanwxxg6XkJwiSo1AGZDkT1VAejemoOQM3zNjpMoynmIFIfqzko1QGpnupeU5nq8uap3Y6P7aEABShAAQpQIHwCNh2ntBJrFi1Efrk68EQXXLWVqFSzruz7kTs3w6fh3oHH5j+OnbIkZfqoMqrQ/StXI8PpKxLJ3zpYNE9lXgeWMjUHnTKvl/VUyugfva0cg8zrevUx+S/r/GhMzcGo7F8HljLvH5TKsg5K9VT3lOplmUodeqrr959K/UwUoAAFKEABCnQPAVv2lHpK3zQCUteEe/DUgomqd7QpSC3Mw7ZZGchQXaFbX3jKCEinLlyGu8YnG2fD43YjJgoBqfmjIIGTOWA0B1ISZOmky5jXy7yU0YGslNHl9NR/e70czak+Bt0GvSxT/aMDTJnKjzkQ1Xm6jN5G1ydTXac5j/MUoAAFKEABCnQfAVsGpQd37TWEb53+1abL9S7cdEc28pcWYtfBatUTegivFdUCmQubA1LZwOGMckRq+lyYgygJKHWgJYGXTjpPpuYeUh2Mmqd6G5n6B6jmddGaNx+vtMF8bOZ5cwDqP6/L+W8frWPifilAAQpQgAIUiJyALYPShMR+hkD5EfXe9mRfExP6xDereMr3oVQtueIrsWXDGuz99Bgw+AJ85bqvYUyyfQJT3WAdsEkQJsGnVWAq+eZAVAefeir1med1/XaZ6uOU9uh5HWiapzoYlTz/eV3OLsfEdlCAAhSgAAUoEBkBWwalSamp6uiLUbD0CTjnTcOQhv14Ja+gWcRbU2XMVxatxooidUtpItTQSkBh/l8wb9kKTGoKZJs3iMCMBFM6YNTzMvVPEoTpwFTWy7xMdb6uQ6bmef96ZFmvD7YuUnnBjlH2rfNlap6X49R5VvN6vXk7fTw6Ty9zSgEKUIACFKBA9xCwZVAam5KDR2YfwLLVRVi7KreVtNFf2tTq9NkP4d9zxsChSpRvfRaLcgvx5427MemuMa22CbYgY4SWlZUFrEpUEe7AgQMD8tubYQ4U9bx5KvPmH6lXliU41fN6vZHRDX75B5k6GJVDM6/T8zrfPPWfl2UmClCAAhSgAAU6LjB48GAMGTKk4xuGeQtbBqVyzGk5C7AqZz48nkbEOBxwb38RC5YWIE7ehOT1qQweNswISGUp+cqrkIhCJLRc5fcVsvh94YUXQn7806ZNm3DNNdf4Z7d7WQJKc9LLOtDUUymj581TnW+eyrwkKWf3JIGlOell81TmzT9S3rxsLhusLnMe5ylAAQpQgAIU6B4Ctg1KfbyxcDikiRVY+6xcvs9EZqoDTvdYJCMfhW98iLnjJhpFPQc/hbqCj0GtRzI11kXylwRUwYJHHWhJW8xl9Lzexn9qbrteZ86z27z5OHXbdJ552ta83lZPdXm9zCkFKEABClCAAt1LwJZBqad8C555bgcun3g1XHGVeGt1HkrUGKTp825RwahKzhG4Xt12urpkBZat8eJrw6uwJnetcWamZsn9qNFNEkDpAFIHU7Ks53XrdDk9lXy9nf+83qarTc3HrOfbO9XHqsvrZU4pQAEKUIACFOh+ArYMSh0JiTi8swh56seXXMiecy/mTkppWnYi58cPofSxx1GcvwolRm4yZj3wY0xKsschSSBlDjD1slWAFWy9efumA+9yE//jNS/reT2VgzPPB1vucgBsMAUoQAEKUIAC7RKw6RudpO1eeNwe1Kk5pxp/1CrU9LirVZnYkGXaJdFUSO4pzcrK6sgmIcsGCyzNeeZ5qch/OWTlXWxlqIDTf50cWrC8LnbIbC4FKEABClCAAu0UsIr12rl5OIup+0md6qeNXTicA9os00YVYV0tgZV/oKmDLcnX82FthE0qD3aswfKkuVb5NjkUNoMCFKAABShAgU4WsHFQ2slHGsXqdIBlFZzqpvWEIFVb6GP2n7a13r88lylAAQpQgAIU6B4CDEojeB51wOUfnOom6PV6uSdNe/Kx96TzzGOlAAUoQAEKWAkwKLWSCWO+OQCzClDDuHvbVG12sE2j2BAKUIACFKAABaIiwKA0KuwtO2Vg1mLBOQpQgAIUoAAFeq5A75576DxyClCAAhSgAAUoQAG7CDAotcuZYDsoQAEKUIACFKBADxZgUNqDTz4PnQIUoAAFKEABCthFgEGpXc4E20EBClCAAhSgAAV6sACD0h588nnoFKAABShAAQpQwC4CDErtcibYDgpQgAIUoAAFKNCDBRiU9uCTz0OnAAUoQAEKUIACdhFgUGqXM8F2UIACFKAABShAgR4swKC0B598HjoFKEABClCAAhSwiwCDUrucCbaDAhSgAAUoQAEK9GABBqU9+OTz0ClAAQpQgAIUoIBdBBiU2uVMsB0UoAAFKEABClCgBwswKO3BJ5+HTgEKUIACFKAABewiwKDULmeC7aAABShAAQpQgAI9WIBBaQ8++Tx0ClCAAhSgAAUoYBcBBqV2ORNsBwUoQAEKUIACFOjBAgxKe/DJ56FTgAIUoAAFKEABuwgwKLXLmWA7KEABClCAAhSgQA8WYFDag08+D50CFKAABShAAQrYRYBBqV3OBNtBAQpQgAIUoAAFerAAg9IefPJ56BSgAAUoQAEKUMAuAgxK7XIm2A4KUIACFKAABSjQgwUYlPbgk89DpwAFKEABClCAAnYRYFBqlzPBdlCAAhSgAAUoQIEeLMCgtAeffB46BShAAQpQgAIUsIsAg1K7nAm2gwIUoAAFKEABCvRgAQalPfjk89ApQAEKUIACFKCAXQQYlNrlTLAdFKAABShAAQpQoAcLMCjtwSefh04BClCAAhSgAAXsIsCg1C5ngu2gAAUoQAEKUIACPViAQWkPPvk8dApQgAIUoAAFKGAXAQaldjkTbAcFKEABClCAAhTowQIMSnvwyeehU4ACFKAABShAAbsIMCi1y5lgOyhAAQpQgAIUoEAPFmBQ2oNPPg+dAhSgAAUoQAEK2EWAQaldzgTbQQEKUIACFKAABXqwAIPSHnzyeegUoAAFKEABClDALgIMSu1yJtgOClCAAhSgAAUo0IMFGJT24JPPQ6cABShAAQpQgAJ2EWBQapczwXZQgAIUoAAFKECBHizAoLQHn3weOgUoQAEKUIACFLCLAINSu5wJtoMCFKAABShAAQr0YAEGpT345PPQKUABClCAAhSggF0EGJTa5UywHRSgAAUoQAEKUKAHC8Ta99irsX1jIbZ+VIoa9EVq+iRMn5gGX4O92L3ldWw/Wo84fQANDXCmZWHKuCSdwykFKEABClCAAhSgQBcRsGlQWok1ixYiv1wpJrrgqq1ESXER3tp7P3LnZqhMD97942oUVLZWTsxOY1DamoRLFKAABShAAQpQoEsI2DIo9ZS+aQSkrgn34KkFE1XvaFOQWpiHbbMykDEAiFe8idkPYMXccYDX68OOteXhdIkPAhtJAQpQgAIUoAAFoilgy3tKD+7aa5jcOv2rTZfrXbjpjmyVV4ldB6ubvfr07Wesj1XBqPHTvIYzFKAABShAAQpQgAJdScCWXYsJif0Mw/IjHiDZ18SEPtI32pLiElSImv88XsRY1WvqxPCxl+HqMSlNQWxLOc5RgAIUoAAFKEABCthfwJZBaVJqqpIrRsHSJ+CcNw1DGvbjlbyC1poqKAVKUZBf6svPV5fz0+fh14smwdG6JJcoQAEKUIACFKAABWwuYMugNDYlB4/MPoBlq4uwdlVuK0Jff6kTMx9djZlNazyVO7DiZ4+juGQVXi3NxMxUZ6ttuEABClCAAhSgAAUoYG8BWwalQpaWswCrcubD42lEjMMB9/YXsWBpAeISjC7SVqoO1xj8222ZKF5R3Co/1MK+ffsgP8HSnj17gmUzjwIUoAAFKEABCnR5AZdLjWykfuyWbBuU+qBi4XBIEyuw9lm5fJ+JzFS5OC9P27du+qc7PlF5QEPTg/jGQohfI0aMgPz4p02bNuHiiy/2z+YyBShAAQpQgAIUoEAYBVpHdmHcUUeq9pRvwTPP7cDlE6+GK64Sb63OQ4kakzR93i1IVhW5d7yM+Y//E1NnT0ZK/ziUFRegQAokZmNyGi/dd8SaZSlAAQpQgAIUoIAdBGwZlDoSEnF4ZxHy1I8vuZA9517MnZRiLDqGjMToRBWIqmBVJ9foqfjRfXfBfp3RuoWcUoACFKAABShAAQpYCfQ6rZLVyujme+Fxe1CnGuF0Ov0u1vta5vW44TGu5DvgNC7zn32L5fJ9VlbW2VfEGihAAQpQgAIUoAAF2i1gy55SX+vV/aRO9RPiUGIdKlgNVSDEtlxFAQpQgAIUoAAFKGAfAVu+0ck+PGwJBShAAQpQgAIUoEAkBBiURkKZ+6AABShAAQpQgAIUCCnAoDQkD1dSgAIUoAAFKEABCkRCgEFpJJS5DwpQgAIUoAAFKECBkAIMSkPycCUFKEABClCAAhSgQCQEGJRGQpn7oAAFKEABClCAAhQIKcCgNCQPV1KAAhSgAAUoQAEKREKAQWkklLkPClCAAhSgAAUoQIGQAgxKQ/JwJQUoQAEKUIACFKBAJAQYlEZCmfugAAUoQAEKUIACFAgpwKA0JA9XUoACFKAABShAAQpEQoBBaSSUuQ8KUIACFKAABShAgZACDEpD8nAlBShAAQpQgAIUoEAkBBiURkKZ+6AABShAAQpQgAIUCCnAoDQkD1dSgAIUoAAFKEABCkRCgEFpJJS5DwpQgAIUoAAFKECBkAIMSkPycCUFKEABClCAAhSgQCQEGJRGQpn7oAAFKEABClCAAhQIKcCgNCQPV1KAAhSgAAUoQAEKREKAQWkklLkPClCAAhSgAAUoQIGQAgxKQ/JwJQUoQAEKUIACFKBAJAQYlEZCmfugAAUoQAEKUIACFAgpwKA0JA9XUoACFKAABShAAQpEQoBBaSSUuQ8KUIACFKAABShAgZACDEpD8nAlBShAAQpQgAIUoEAkBBiURkKZ+6AABShAAQpQgAIUCCnAoDQkD1dSgAIUoAAFKEABCkRCgEFpJJS5DwpQgAIUoAAFKECBkAIMSkPycCUFKEABClCAAhSgQCQEGJRGQpn7oAAFKEABClCAAhQIKcCgNCQPV1KAAhSgAAUoQAEKREKAQWkklLkPClCAAhSgAAUoQIGQAgxKQ/JwJQUoQAEKUIACFKBAJAQYlEZCmfugAAUoQAEKUIACFAgpwKA0JA9XUoACFKAABShAAQpEQoBBaSSUuQ8KUIACFKAABShAgZACDEpD8nAlBShAAQpQgAIUoEAkBBiURkKZ+6AABShAAQpQgAIUCCnAoDQkD1dSgAIUoAAFKEABCkRCgEFpJJS5DwpQgAIUoAAFKECBkAIMSkPycCUFKEABClCAAhSgQCQEGJRGQpn7oAAFKEABClCAAhQIKRAbci1XUoAC3V/AWwUcWQccfxNwbwc8ZUDjSSCmD+BIAZzjgEGTgXNmArEDu79HDznCmpNevP3PSnywtwqln7txpKoenvpGOOJjcM7AeKSe78SVowbiustd6Nun631VnDr5JRp2FaKhtBjeQ3twqroCaKgD4hLQe0ASYodejLjUTMRdmo3effr1kLPOw+zuAvX19Thw4AAOHTqE48ePo7a2Fo2NjYiJiUFiYiIGDRqEoUOH4oILLkB8fLztOHqdVsl2rYpigzZt2oSsrKwotoC7pkCEBOrVl3TZo8AXK4HT9W3vtJf6H9h584GUxUB8UtvlWcKWAse/rMdLbxxAQXEFGrxt/+8/LrYXpmYm4c4bLsCgfvb7EvNHPlVTiZObVsLzwV8Abzs+17HxcFx5C/pkzUfvvi7/6rhMgS4hcPLkSXz88ccoLS3FqVOn2mxz7969kZqairFjx6JPH9UBYZPEoNTvRDAo9QPhYvcUqPgdsPf7qkf0RMePL6Y/MOo3QNIdHd+WW0RVoPD9w8hd9yncdY0dboczIQYLZ16E7KvO7fC2kdrA8+FrqH31CZyuq+nwLnsl9EXizT+B44ppHd6WG1AgmgKfffYZtm3bhoaGhg43Iy4uDhkZGbjwwgs7vG04NmBQ6qfKoNQPhIvdS0AujHz6H8DBZWd/XMMWARf9N9Cr19nXxRrCKiAXxFauL8MfN5Wf9X5uy0rG/JwUddrtc97l+E7+7WnU/f2Fsz6+hGvvRp8bf2ir4zvrg2IF3VJAPvfbt2/Hrl27zvr4Lr30UowbNy7qn3s+6HTWp5IVUKALCXRWQCqHLIGt1Mdke4HOCkjlQCWwlfrslDorIJVjksBW6mOigN0FOisgleOUwFbqi3ZiUBrtM8D9UyBSAnLJvjN6SM3tlfqkXibbCsgl+87oITUfoNQn9dohySX7zughNR+L1Cf1MlHArgJyyb4zekjNxyf1Sb3RTDZ+pLIa2zcWYutHpahBX6SmT8L0iWkIbHA1tq57HTuPA1fl3IJxSY5oenLfFLCngDzUJPeQhiNJvfJ0Ph9+CofuWdUpDzXJPaThSFLvlRcPjOrDT/JQk9xDGo4k9crT+Xz4KRy6rPNsBOShJrmHNBxJ6pWn86P18FNgjBeOo+xwnZVYs2gh8uX2p0QXXLWVKCkuwlt770fu3IxWtZVveR65a4t9eVfdxKC0lQ4XKNAkIE/Zt/VQU/9rgeR7gQET1bA5Q9TwOUeB6i1A+a+AE3+3ppR6pf5RqhyTrQTkKfu2Hmoae2E/TL/2PFx2UX8McMah2t2Ajz49gb/+/Qt8/NmXlscj9Ur9C2emWpYJ9wp5yr6th5pih4+DI/ObiEu5Cr0SB+J0bRUayt6Hp/gP8O63vlwp9Ur9zpyfhPswWD8FOiQgT9m39VDTOeecg1GjRuHcc8+Fw+GAx+PB4cOHsXfvXhw5csRyf1Kv1H/11VdblgnnCltevveUvmkEpK4J9+CFVbnIXZ2LGclAZWEetlWbODy7sWJFU0CqsvvGmdZxlgIU8AnIOKQy7JNlUv8bGPlrIP1t4Nx/U2OTng/0VkP/yFSWJV/WI8T/LqR+2Q+TbQRkHFIZ9skqqRFhjKfpn7r3cnwt/RwMGeBAXGxvYyrLki9P20s5qyT1y36ikWQcUmPYJ6ud91bjMqqn6fvP+184LrsJvfufg16xccZUliVf1kOVs0pSv+yHiQJ2EZBxSGXYJ6skDyDK0/Q33HADRowYYYxNqscolWXJl/WhHlSU+mU/0Ugh/ncTjeb49nlw115j5tbpX226XO/CTXdkq7xK7DrYEpVue+lXKEUyZs+bapSPDqGvzfxNAdsKyMD4ocYhHZmrekjbuLQv66WcVZL6ZT9MthGQgfFDjUP6g1suMnpIQzVYelClnFWS+mU/0UgyMH6ocUgTpy5CguohDZVkvZSzTGqcU2M/lgW4ggKRFZCB8UONQ3rVVVfh4osvDtkoWS/lrJLUL/uJRrJlUJqQ6Hu7RvkRT7NJQp/WgzZ7yzfgycJKJM+6BzekOpvLcYYCFPATkDc1WSXjkr0pID38B+C9McAWdWePTGVZJwlMpbxVCrUfq22YHzYBeVOTVdKX7PX6TduPYt7SDzD1gXeMqSzrJIGplLdKofZjtU1n5MubmqySXLI3B6Sej/+G6txZOLbkGmMqyzpJOSlvlULtx2ob5lMgXALypiarJJfszQFpWVkZXn31Vfz+9783prKsk5ST8lYp1H6stumMfFveU5qk3jIAFKNg6RNwzpuGIQ378Upegel4q/Gn/8lTy+m4V+5n2h2eG35NO+QsBbqugLvEuu1yD6lOEoDuul0vAbU7W5bPbepxkvJW95fKK0qZbCNQWu62bIsEmjpJAPr4i7v1IsoqTjYvZ41T9xarJOWt7i+VV5RGI3m/2GO5W7mHVCcJQN1/aLkvtPGIenlA07Jj7I1GMSlvdX+pvKKUiQJ2EZBXh1oluYdUJwlA//73lmcBqqurm5dTUlKMYlLe6v7SUPvR+wjH1JY9pbEpOXhk9gQkqovza9U9pSvy8lHedPTSX1qxdbVxz+nUB74HH61vZXysLWPscJw31kmB9gt49luXlYeadCpboudaT8355vKtSwGelr/C/VdxOfICR6rVLRUWSR5q0umlvwX/fJjzzeX1dnp6pMp6P7pMOKanTljfLysPNelU99Zv9WyrqTnfXL5VIbVwqtp6P/5luUyBcAvIu+ytkjzUpJM8rBQsmfPN5f3LhtqPf9nOXLZtFJeWswCrcuarJ8YaEaOeHHNvfxELlhYgLqERm1YUGQYFv3oYm3ESGi9/yXy8nT4Pv1w0CW0NDLVv3z7IT7C0Zw//Mg7mwryuKXBx40nLhu/ddxyne9UY60fV/gu9gpQ8rfL3Nv2b6HW6AS1/i/sVVvvhvx0/kygueuqtXyV6+PN9OFbhO9sHjwT/fEi+Pp/eRvUmMIsk+9HlLIqEJXtIQ51lvZ+Uq6eLD/l6lFyVZUE/116V39zuRi98fcJBqlT7aS4XZDWzKBBJgcZG63/X+/fvVw8m+voaT5wI/gppyZfPs8vlwsCBAy2bHmo/lht1wgrbBqW+Y4tVQxlIEyuw9lm5fJ+JzNT+ODIlGxPUPbjx8fIXejzqj/0LRSXlSB6djksuHYwY38Yhf8tTaLoL21xw8+bNxjAK5jzOU6BLCxzuo4aDCv7X9cgU9T8lecpepV7Vl/gu2fsdbK/ES1r+TXg+V1/2fgX0YkyflnI6j9OoCTjij+Gk+qM+WDrnvBTjKXtZN+ycGuOSvX+5Yee0nM+j1XJ/f8t9puayjviYqJz343EJQH3wz3Xq+UOMp+ylnSdcKZBL9v4pVuXry52nThxByyO0fiXVfnQ5vzVcpEDEBeStS15v8BEvLrjgAuNpe2mUDP0kl+z9U//+/Y3Pszx9rzv0/MvIsjyxH41ky6DUU74Fzzy3A5dPvBquuEq8tToPJeoBz/R5t6hn7WORnDMX5tvSvaXrVFC6Fhm3/TtuT2urj7SF2WpIBKv8li05R4EuJOBQN7nU7gra4F4n1FUHGfZJUsojLfeQ+nJ8v1V+878JKW+V1H6ay1mVYX7EBM4ZGI/96v7QYEnuD/1augrqVLrzxuHN95Cay0q+Pp9W95NKedmPLmfePtzzvQck4dSRz4Luxrv/A2MYKFmZ8LXvNd9Dai4s+brdUt4qyX50OasyzKdApAQSExNh1Qsq94dKh5uksWPHNt9DamQ0/ZJ8/XmWcUutkuwnGsmWQakjIRGHdxYhT/34kgvZc+7F3EnqyzVI8jT90VDvlcs57Q9Kg1TFLAp0PwGn+hPOIig1BsbXQal+mEnuIT2pHnzpk+YLVHW+yMhA+lZJ9sNkG4HU852WQakMjC9jkUrSDzPJPaTlR+uQPCTBCFR1vpSR8lZJ9hONFDv0YtRbBKUyML6MRSpJP8wk95A2HtuPmMHDjUBV50sZKW+VZD9MFLCLwKBBgyyDUukd1UGpvhIs95B++eWX6NevnxGo6nw5HilvlWQ/0Ui2DErhysCy1erdw24PJMx0Op1BXi/awuVMm4nVq2e2ZHCOAhRoEZBXgB55uWXZPCdP0pf/pmWcUglAzUGouayUs3ryXsrJfphsI3DlqIF4qyT4JXfp+ZRAUz+FLwGoOQg1H0Rbb3aS/UQjyStA6z/aEHTX8iR9nQo09bBQEoCag1DzRlLO6sl7KSf7YaKAXQTkFaDmoZ3M7ZKeUrlfVA8LJQGoOQg1l5VyVk/eSznZTzSSLZ++90Go+0lVMDqgjYA0GmjcJwW6lMA56g+2XjJuhUX6ZKEvMLVYbWRLQCrlrJLUL/thso3AdZe71BuafA8zBWvUr//yacgeUNlGAlIpZ5WkftlPNFLcpdlArPXnurZgmRGYhmqbBKRSzjKp+o39WBbgCgpEVkDuG9UPMwXb8/vvv9/mg3kSkEo5qyT1y36ikWJ+plI0dmzXfcoT+br7265tZLso0CGB3vJAiBrW5sv3LDY7DRx7DZDB72PUfUSxg9WrFx2+bY69Cuy5R72mdIXaVpWzSuerMgxKrXSikh8f1xvHvqzH7gO+0RX8G3Fanc53dx1HiRpk36HK9kuMNV4zelxtU6zyn/lTKdZvrYCUs0o544diwuWWz61bbdYp+b3iHDj15VE0lu8IXp9qeMPet2EMfq/K9u4zQH2+43G65hjq9xSh9pWfw7NtrfpYWx+gI+MbcIxRwS8TBWwiIA8gnTx5EseOHbNs0eeffw4Z/F7KxsfHG0FsXV0dysvL8d577+GTTz6x3FZWjBw5EsOHDw9ZJlwre52asH5AAAA7HklEQVRWKVyVd8V6N23ahKysrK7YdLaZAtYCEpS+e7F6Cv+EdZkzXROjxry8Rg2jFp90pjVwuzAJSID5nSc+gLsu+FP4Z7NbZ0IMnvvJlRjUz7q38mzqb8+2p2oqUf3MrThdFzzwbk8dVmV6JfTFgH//M3r3jU5PsFW7mE8BCUrXr1+PhoaGTseIi4tDTk4O+vRRo7ZEIdn48n0UNLhLCnRXAQkYR6lL8OFIUi8D0nDInnWdEjAunHnRWdcTrAKpN5oBqbRJAsbEm38SrHlnnSf1MiA9a0ZWEAYBCRgzMjLCUDOMeqMVkMoBMSgNy2llpRSwoUDSHWpQykWd2zCpT+plsq1A9lXn4ras5E5tn9Qn9dohOa6YhoRr7+7Upkh9Ui8TBewqcOGFF+LSSy/t1OZJfVJvNBOD0mjqc98UiLTARf/deYGpBKRSH5PtBebnpHRaYCoBqdRnp9Tnxh92WmAqAanUx0QBuwuMGzeu0wJTCUilvmgn3lPqdwZ4T6kfCBe7p0DF79Qgdd8/s3tM5R5SuWTPHtIu99kofP8wctd9ekb3mMo9pHLJ3i49pMHwPR++htpXnzije0zlHlK5ZM8e0mCyzLOzwGeffYZt27ad0T2mcg+p3AoQ7R5S7cugVEs0TRmU+oFwsfsKyMNPZY+qJ+tXqieQ5ZW9bSQZ9um8+WpA/cW8h7QNKjuvloefXnrjAAqKK9Dgbfs5Vxn2aWpmEu684YKo30PaHld5+OnkppXwfPAXwNuOz7Ua9slx5S3okzWf95C2B5hlbCkgDz/JQPmlpaU4depUm22UYZ9SU1ONAfWjeQ+pf0MZlPqJMCj1A+Fi9xfwVqnB9df5hoRyb1evtylTPajq9ZTqXfaQV5TKm5pkYHwZ8il2YPf36CFHWHPSi7f/WYkP1JBQpZ+7caSqHp76Rsi77OXVofKmJhkYX8Yh7dsntsupnDr5JRp2FRpDQnkP7cGpavVHWIN6HYt6l728OlTe1CQD48s4pL379Otyx8cGUyCYQH19PQ4cOGAMCXX8+HHj/faNjY3G8FDy6lB5U5MMjC/jkMpwUXZLDEr9zgiDUj8QLlKAAhSgAAUoQIEICPBBpwggcxcUoAAFKEABClCAAqEFGJSG9uFaClCAAhSgAAUoQIEICDAojQAyd0EBClCAAhSgAAUoEFqAQWloH66lAAUoQAEKUIACFIiAAIPSCCBzFxSgAAUoQAEKUIACoQUYlIb24VoKUIACFKAABShAgQgIMCiNADJ3QQEKUIACFKAABSgQWoBBaWgfrqUABShAAQpQgAIUiIAAg9IIIHMXFKAABShAAQpQgAKhBRiUhvbhWgpQgAIUoAAFKECBCAgEBKVlG5Zj0WPPYsv2Mri9EWgBd0EBClCAAhSgAAUo0OMFYv0Fag7uRPnOSqzYWahWJSI9expuyLoWY1OTEFDYf2MuU4ACFKAABShAAQpQ4AwEep1Wybydt7oc7xS9jjc2FKK00rQmMRkTpk3FjddmIjXJaVrRvWY3bdqErKys7nVQPBoKUIACFKAABShgc4GAoNTc3uqKUrz/9014662tKkCtbV6VmDwaN0zNQVbmWCQ5u1f/KYPS5tPMGQpQgAIUoAAFKBAxgZBBqW6Fp3I3/vDEEhSU65yWqSt9Fn62aCZcLVldeo5BaZc+fWw8BShAAQpQgAJdVMCym9NbXYHt72/C639+AztNvaRQ4Wdm9jXAvs0oLq1FZclr+MytgtLue0W/i55aNpsCFKAABShAAQp0HYGAoNRdugWrnv+jCjjNN5QCqelTMW36JFyZlgyHcXx3obp8B/5RXIELfBld56jZUgpQgAIUoAAFKEABWwkEBKX7Nr1g9IBKKxOT03HL16dhfOYYuIIEngOSx2DKzDG2OiA2hgIUoAAFKEABClCg6wkEBKVDvnI3ZiV5ccXV3fsp+653qthiClCAAhSgAAUo0H0FAgbPT0pLQcXmVVh8329Q6jEfuBtrFs3G7NmLsa2So+qbZThPAQpQgAIUoAAFKHB2AgFBaVnhH1CknrJPzv4aUltdsnfiK5PT1d5KkfeXj89ur9yaAhSgAAUoQAEKUIACJoGAoLSm6rBa7cId/5ZhKuabTZnyXWQnApXbP0J1wFpmUIACFKAABShAAQpQ4MwEAoJSfZOpN+gVei/qjf3En9neuBUFKEABClCAAhSgAAWCCAQGpXEJqlglnnxsObaXVcIXm3rhrizD+mWPoUhe7JQQBx28BqmTWRSgAAUoQAEKUIACFOiQQEBsmXrzt5G+djFKyouw9MGioJXNmDcFHCs/KA0zKUABClCAAhSgAAXOQCCgpxSOVCxa+ShmZKYGVJfoGo05D+Xi9jSGpAE4zKAABShAAQpQgAIUOGOBXqdVstza64HbXWdcwo9NcMLpCOhYtdy0q67YtGkTsrKyumrz2W4KUIACFKAABSjQJQUso0x3ZQWq6kxPO9XUoKrpEGMThiAp2CueuiQBG00BClCAAhSgAAUoEG2BIEFpBdYsfgj5pfJEk1XKxvLVczHAajXzKUABClCAAhSgAAUo0AGBgHtKyze80ByQupLVoKSSXMkYPToVTUtInHEdA1KfDH9TgAIUoAAFKEABCnSCQEBQWmUMng/Memg5cpetwCyXikmvm4eHH34UTz8y2whMB9V/2Qm7ZhUUoAAFKEABClCAAhTwCQQEpb7r+S5cNEIuznvQoH5Xbtuh5gBn2g24JRkof3cX3+jk8+NvClCAAhSgAAUoQIFOEAgISn2PNp3EiRqp3YGBSWpS/hY2lboB9z7sOt4Je2UVFKAABShAAQpQgAIUMAkEBKUjxsk772vxwu+3qmksMm6aoKaVyFs8H7PnL0GJPP80PIWD5ysGJgpQgAIUoAAFKECBzhEIePremZaDedn78Y66cC+X7F0Zd+OeCZ9iRVG5b4+uTDzy/Yl8zWjn+LOWIAJuTyPe23cCO8rd2H+sDpVuLzzeU3DE9obLGYvhgxMwJtmJq0f0V2PnxgSpgVkUoAAFKEABCnQ1gYDB88s2LMcv13+OKff+BDmmNzd53W6oC/gY4Ozeb3Pi4PnR+whX13rx55Ij2LynCg2N1u900C2Mi+mF6y8eiFvTz8GAxIC/r3QxTilAAQpQgAIU6AICAd/kNVWforKyHHF9Ha2aH6uCUY5L2oqEC50o8PdPqpH3zheorT/V7lolcH1T3eT8Tmk15nz1PFw7kp/QduOxIAUoQAEKUMBmAgH3lCY4fV/sb/71HePyvc3ay+Z0MwF5y+3LxRVYvqm8QwGpmUECWdle6gn11lzzNpynAAUoQAEKUMBeAgE9pSlXTwRW70R50Qr84PMduO1raYgztbmhoQF9ksZi4jg1NhQTBc5S4PfvHsarH1WeZS2+zXU938qUISOYKEABClCAAhToSgIBQenu9S80t7+2tAh56icwZeMKvmY0kIU5HRKQS/Y6kOzQhiEKS33DXQm8lB/CiKsoQAEKUIACdhQICEqHTb4P85J2o6reqrkNiD8vIwL3l1Zj+8ZCbP2oFDXoi9T0SZg+Ma35qX9vdRneKdyCHQeOoV7WX5OFm8anNq+3aj3z7SEgDzXJPaThSFLv2PPVPdB8+CkcvKyTAhSgAAUoEBaBgKfvw7KXDldaiTWLFiJfRqFKdMFVW6lGSlXDU2Xfj9y5ahxVz24s+s4SGINUJaoVMnaqSqPn/AIPT0nxLZzhbz59f4ZwHdzs+b9/YTykFGqzi5P64IbRg3HJ0ET0S4jFl3Ve/OtQLd7YeQx7Kk6G2hSTLx2Eb197XsgyXEkBClCAAhSggH0EAnpK4fXA7fG918mqmbEOpxoz0mrt2ed7St80AlLXhHvw1AIZE7UpSC3Mw7ZZGchISEDGhFm455s3I9XlgLt0A364OA873/wH3Coo7d6DVp29b7RrkHFIZdgnq9S7F3DX+KFGQGouM8gZh/GpA4wfCUxf3HoIpyxGjpL6b8s4l+OYmgE5TwEKUIACFLCxQEBouftPD2OJ0UUZotWuGViZe3vYgr+Du/YaO791+lebLse7cNMd2chfWohdB6uRMSYFty9o6RF1pgzDILVFbR0QOpwOcUxcFTEBGRg/1DikwQJS/8ZJD6qkvHcO+a8ylqV+2U9WmnwymChAAQpQgAIUsLtAQFAaGydDQpUjMVGui7ek2tqma+Qqy3VNKlqPYtpSrjPmEhL7GdWUH1HvlEr2NTGhT3zrqlWPbrW7Dt6aQ9i8eoVxKT895ysRuNe1dTO41HEBeVOTVdKX7PX6f3xajT9/cBSHTngwtL8Dt145BF+5yDdsmQSmW9UYpVaX8mU/DEq1JKcUoAAFKEABewsEBKWpMx/G6pnBGl2JdYsXYm0pcM1lo8L6QFFSaqpqQDEKlj4B57xpGNKwH6/kFbRqlHv3S1jweKEpz4XpWS29p6YVnLWZQJl6dahV0j2gsl4C0l9tbHq9rVour/I0L5sD0z0VLWXM9corSpkoQAEKUIACFOgaAh170MlbisfuXoydYb58L3S71y/HstVF+hmmZs0ZDy3H7WNUT5mnEqX7jqLu5DF8vPk15BeraBkT1DYL0J4RVPft2wf5CZbOP//8YNnM6ySBJ/7uRX1j8Mruy4xBP4e6qVSl5dsacaQ28KbRcxJ7YUGG7533X3pO46ni4JXFqyI/uTbg767gO2YuBShAAQpQoIcIuFzqIXL1Y7fUsW9s9d2vL9uH+97NtJwFWJUzHx71UEyMQz3MtP1FLFhagDj1kJORHC6kpvlAx4wbj+HLFyK3qAglZd9FcopupTX3iBEjkJIS2LO6efNmjBo1ynpDrjlrgYaiXZZ1XH6p6oVX77SXdOzt4OWO1Z1uPkdede8oiv8VtL4G9cZSnsugNMykAAUoQIEeLNCrl+971m4EAUGpu2w73i87YWpnHOLigJMn9uOtP+ZD+iMlBWzoy+7k37FwGI/5V2Dts3L5PhOZqSrg9LhR7VXjUAZ5zN6thg1qCZ1DN8fqpFjlh66Na9sr4IjtjTqJGIOkGvVHiDxlL0nuIZVL9v5J8vU5qgkxUoTsR5fzr4PLFKAABShAAQrYSyAgttz35q+worDloaZgzZ19b07YnryX/XnKt+CZ53bg8olXwxVXibdW56FEDVSaPu8W49K8e9fvVa9pIdKnzkJmyhAc3fEG1hbJSKbp+EpqkEg12EEwL2oCLmesCjaDv51BxiGVYZ8kyUNN5ntKdYMlXycpb5VkP0wUoAAFKEABCnQNgYBv7SFX3YZsHEa838PuQDwGnXseLsvIRIoaGzScyZGQiMM71StO1Y8vuZA9517MneS73O688Dpkp25HYcFalDSVSEzOxD0/vgcpAUcUzpay7jMRGD44wTIolfFHdVCqH2ayevpe9i3lrZLsh4kCFKAABShAga4h0LEHnSJ6TF51ld4DeX7a6XQGv11AD/Qf61CDpHdONMo3OoX/JG/afRyrir6w3NGcrwYOnB+ssASkVuOUSvl5E87jkFDB4JhHAQpQgAIUsKFA74A2ecuwfNFszJ69DKWtbudzq1d/Sv5ibKsM92NO0ip1P6kKRgdYBaRGERWMqvWdFZAGWDAjLAJXj+iPuKaHmYLtQN7UFKoHVLaR9VLOKkn9sh8mClCAAhSgAAW6hkBAUFpW+AcUqWEfk7O/BnmmqCU58ZXJ6WqxFHl/+bglm3MU6KCA0xGD6y8eaLmVvDpUekD/65XPjMHxj7sbIE/Zy1QGy5d8WW/1ilGpWOqX/TBRgAIUoAAFKNA1BAKueddUHVYtd+GOf8sIOIKUKd9F9h8XonD7R6jGOL49KUCIGe0VuDX9HLyjAsza+uBP4Us98qYmq4HxQ+0nMb43pH4mClCAAhSgAAW6jkBAT6mOUr1Br9CrQc+NYwt4CqrrHDFbaguBAYmxmPPV88LSFqlX6meiAAUoQAEKUKDrCAQGpXHyxHIlnnxsObaXVcIXm3rhrizD+mWPoUhG4EmIC/7gUdc5brbUBgLXjhyAmy/r3DdKSH1SLxMFKEABClCAAl1LIKA7KfXmbyN97WKUlBdh6YN6SKbWBzVj3pSwjlPaem9c6s4C/3bNucbhvfqRjDN7dkkCUl3f2dXErSlAAQpQgAIUiLRAQE8pHKlYtPJRzMhMDWhLoms05jyUi9vTOEB9AA4zzkhA3rj0rcwkLMhKhtwLeiZJtpPtpR6+welMBLkNBShAAQpQIPoCoccplXFA3XXGJfzYhJ4x9BLHKY3eh7K61os/lxzB5j1VaJB32reRZNgnecpeHmriPaRtYHE1BShAAQpQwOYCAZfvIeOUPvigGhYqHY8+twipA/S4UDJO6d3IL0/F/bmPIMMVuKnNj5XNs7mABJbfvvY83JZxLt7bdwI7yt3Yf6wOlW71IgXvKci77OXVofKmpjHJTmMcUg77ZPOTyuZRgAIUoAAF2ikQEFm2NU5pfl6JMU5pxtxx7dwFi1GgYwISaGalDeLbmDrGxtIUoAAFKECBLi0QcBNfm+OUJqpn841xSrv0cbPxFKAABShAAQpQgAI2EggISnXXKccptdFZYlMoQAEKUIACFKBANxcIDEo5Tmk3P+U8PApQgAIUoAAFKGA/Ad0x2twyjlPaTMEZClCAAhSgAAUoQIEICQT0lLY5Tumin2Py0IBYNkLN5W4oQAEKUIACFKAABbqjQDvHKa3H4f2f4oONbyC/eCeQOBUrV93VLd/qxHFKu+PHnMdEAQpQgAIUoIDdBUJ2eVZX7MM/Nr6O9QXFaPUSyPMGIeSGdj9qto8CFKAABShAAQpQwFYCAbGlp7ocH/xjI15bX4DSVpEokJqejRtumIyrxqVAD6lvq6NhYyhAAQpQgAIUoAAFuqSALyj1VmPHe0V487UNKPaLRJNTk1FeWo7kqQ/h0bvGdMmDZKMpQAEKUIACFKAABewtoIJSDzYsWYC80paGJqdm4nrVIzo+cwxcMaVYfPdiVLWs5hwFKEABClCAAhSgAAU6VUAFpXU4bIo4EyfMwb2zs5EyoOnKvqdOlWCiAAUoQAEKUIACFKBA+ATUkFADMGnOLCSr14dKqi3Kw4ML7sa8hY9hzYbtqDh6wghKE+KbglRfMf6mAAUoQAEKUIACFKBApwm0GhKqunx38Kft1e5c6bPwk+/djOQB3fsRJw4J1WmfLVZEAQpQgAIUoAAF2i3QKiht2cqD8t0fYOPrr6Gg2HSzqSqQmDwat9wxHznjklqKd6M5BqXd6GTyUChAAQpQgAIU6DICFkGpqf2eauz+6B8qQF2Pop16jKhsLF89V134736JQWn3O6c8IgpQgAIUoAAF7C/Q9o2ijgFIy5hi/MyvrsD2f/wNHzZc2S3f5mT/08UWUoACFKAABShAge4p0HZQajru2AFJyJhyFzJMeZylAAUoQAEKUIACFKDA2Qqop++ZKEABClCAAhSgAAUoEF0BBqXR9efeKUABClCAAhSgAAWUAINSfgwoQAEKUIACFKAABaIuwKA06qeADaAABShAAQpQgAIUYFDKzwAFKEABClCAAhSgQNQFGJRG/RSwARSgAAUoQAEKUIACDEr5GaAABShAAQpQgAIUiLoAg9KonwI2gAIUoAAFKEABClCAQSk/AxSgAAUoQAEKUIACURdgUBr1U8AGUIACFKAABShAAQowKOVngAIUoAAFKEABClAg6gIMSqN+CtgAClCAAhSgAAUoQAEGpfwMUIACFKAABShAAQpEXYBBadRPARtAAQpQgAIUoAAFKMCglJ8BClCAAhSgAAUoQIGoCzAojfopYAMoQAEKUIACFKAABRiU8jNAAQpQgAIUoAAFKBB1AQalUT8FbAAFKEABClCAAhSgAINSfgYoQAEKUIACFKAABaIuwKA06qeADaAABShAAQpQgAIUYFDKzwAFKEABClCAAhSgQNQFGJRG/RSwARSgAAUoQAEKUIACsfYlqMb2jYXY+lEpatAXqemTMH1iGnSDvdXleKfobewoPYR6tf6SaydjSkaKfQ+HLaMABShAAQpQgAIUsBTQMZ5lgeisqMSaRQuRX672nuiCq7YSJcVFeGvv/cidmwF4dmPJgiUoNTWuuLgQb89+BI/mpJlyOUsBClCAAhSgAAUo0BUEbHn53lP6phGQuibcgxdW5SJ3dS5mJAOVhXnYVi2ssRiRno0Hli3H6tWrkfvADMO6dMO7MFZ3BXm2kQIUoAAFKEABClCgWcCWQenBXXuNBt46/atNl+tduOmObJVXiV0HVdjpSMXcRXMxLnmAUc41LgsTEmU23ljmLwpQgAIUoAAFKECBriVgy6A0IbGfoVh+xNOsmdAnRMBZsRvv16qiA51IaN6CMxSgAAUoQAEKUIACXUXAlveUJqWmKr9iFCx9As550zCkYT9eySuwMPVg4wsvQGLS7Bnj4bAoxWwKUIACFKAABShAAfsK2DIojU3JwSOzD2DZ6iKsVfeUmpN/f2np+mewqkSFpOlzcGeGy1w05Py+ffsgP8HSnj17gmUzjwIUoAAFKEABCnR5AZdLPUSufuyWep1WyW6NammPFx5PI2IcDri3v4gFSwsw69HnMDPV1x9avmU5Fq0oAlzZWJY7F+pZqA6lYIe+efNmXH/99R2qh4UpQAEKUIACFKBAVxHo1auXLZtqy57SFqlYOBzSxAqsfVYu32cisykgrdz2oi8gTVYB6bKOB6SyD6uTYpUv2zBRgAIUoAAFKEABCnS+gC2DUk/5Fjzz3A5cPvFquOIq8dbqPJRUqiv0824xekO9FVvwH0823WN6bl+UrFuDtxuA+nrgshtvwbgk3lna+R8V1kgBClCAAhSgAAXCJ2DLoNSRkIjDO4uQp358yYXsOfdi7iTfG5saa04YDzYZ60rysbqkBSj+yhwGpS0cnKMABShAAQpQgAJdQsDG95Sq+0ndHtQpRqfT2fx60XCrbtq0CVlZWeHeDeunAAUoQAEKUIACFDAJ2LKn1Nc+dT+pU/2YGstZClCAAhSgAAUoQIHuKWDLwfO7JzWPigIUoAAFKEABClDASoBBqZUM8ylAAQpQgAIUoAAFIibAoDRi1NwRBShAAQpQgAIUoICVAINSKxnmU4ACFKAABShAAQpETIBBacSouSMKUIACFKAABShAASsBBqVWMsynAAUoQAEKUIACFIiYAIPSiFFzRxSgAAUoQAEKUIACVgIMSq1kmE8BClCAAhSgAAUoEDEBBqURo+aOKEABClCAAhSgAAWsBBiUWskwnwIUoAAFKEABClAgYgIMSiNGzR1RgAIUoAAFKEABClgJMCi1kmE+BShAAQpQgAIUoEDEBBiURoyaO6IABShAAQpQgAIUsBJgUGolw3wKUIACFKAABShAgYgJMCiNGDV3RAEKUIACFKAABShgJcCg1EqG+RSgAAUoQAEKUIACERNgUBoxau6IAhSgAAUoQAEKUMBKgEGplQzzKUABClCAAhSgAAUiJsCgNGLU3BEFKEABClCAAhSggJUAg1IrGeZTgAIUoAAFKEABCkRMgEFpxKi5IwpQgAIUoAAFKEABKwEGpVYyzKcABShAAQpQgAIUiJgAg9KIUXNHFKAABShAAQpQgAJWAgxKrWSYTwEKUIACFKAABSgQMQEGpRGj5o4oQAEKUIACFKAABawEGJRayTCfAhSgAAUoQAEKUCBiAgxKI0bNHVGAAhT4/+3dD3DU9Z3/8RfnwsZsbLCLE5xgA11t2kQt0dgcXhM9cp7iMHB1aPVHpZwDzi9O68/i/OgNg0zqWAZ/cHdem97hjPGYyEx+412Ok9aa0jMgpD0mFJooEkTcYjD7E9quJVcWs7Bef5/vd/NnN3/4Jmy+u5vk+WWy+X4///eRZfPO5/v5fhcBBBBAAIHRBAhKR5MhHQEEEEAAAQQQQCBtAgSlaaOmIwQQQAABBBBAAIHRBAhKR5MhHQEEEEAAAQQQQCBtAgSlaaOmIwQQQAABBBBAAIHRBAhKR5MhHQEEEEAAAQQQQCBtAgSlaaOmIwQQQAABBBBAAIHRBAhKR5MhHQEEEEAAAQQQQCBtAgSlaaOmIwQQQAABBBBAAIHRBAhKR5MhHQEEEEAAAQQQQCBtAgSlaaOmIwQQQAABBBBAAIHRBAhKR5MhHQEEEEAAAQQQQCBtAgSlaaOmIwQQQAABBBBAAIHRBAhKR5MhHQEEEEAAAQQQQCBtAgSlaaOmIwQQQAABBBBAAIHRBAhKR5MhHQEEEEAAAQQQQCBtAgSlaaOmIwQQQAABBBBAAIHRBAhKR5MhHQEEEEAAAQQQQCBtAgSlaaOmIwQQQAABBBBAAIHRBAhKR5MhHQEEEEAAAQQQQCBtAgSlaaOmIwQQQAABBBBAAIHRBAhKR5MhHQEEEEAAAQQQQCBtAp609TTujnrUsbdFB48GdV55CpQt1rKqYg0dcKhjj356sFtfXPawygu94+6FCggggAACCCCAAAKZFxga42V+RPYIwnp5/ePaHTIHuX75L4TV3taqfSefVN2a8vgYI13a9U9/q6b2cPy4agVBaVyCRwQQQAABBBBAYNIJZOXp+2jwdTsg9VfW6KX6OtU11ml5oRRuadDhHss4op1PbDABqVRRZjLMNst+5AEBBBBAAAEEEEBgMgpkZVDaffykbfmVZXf2na73676vV5u0sI53W1GpV19a87i2vFCnb35t0WR0Z8wIIIAAAggggAACCQJZGZTm5F5jDzH02+jAUHOuTpwL9ah40SIV+aRo76WBMuwggAACCCCAAAIITE6BrFxTWhAIGM02NW99Vr6192vOpdP6cUPz5BRm1AgggAACCCCAAAKOAlkZlHqKlqp25Qfa1tiqJrOmNHFLnC9NTB/v/vvvvy/ra6Tt3XffHSmZNAQQQAABBBBAYNIL+P3mInLzlW1bVgalFlLx0sdUv/RRRaOf6CqvV5GOnXpsa7Nm5uRMiOH8+fNVVFQ0rK39+/frpptuGpZOAgIIIIAAAgggMBUEZsyYkZVPI2uD0riWR16vNcSzanrROn1foYpA8r1IvZ6ZdtFZnvEHq6P9UEZLj4+JRwQQQAABBBBAAIGJFsjKoDQaOqAf7DimW6vukH9mWPsaG2TdjrRs7V8pfgMoqevwHh01aZG3XrNN3t77E80+OUvz7rhHpQXJgetEo9EeAggggAACCCCAwMQKZGVQ6s3J1W86W9VgvuKbX9Wrv6U1i/tPt0d05OUGNVk31+/bgq1NCpr9JQsqCUr7UfiOAAIIIIAAAghMEoEZfzRbdo41pmgkql4zOJ/PN+zjRd0a8xtvvKG7777breZpFwEEEEAAAQQQQGAEgaycKY2P06wn9ZmvEQZNEgIIIIAAAggggMDUEsjKm+dPLWKeDQIIIIAAAggggICTAEGpkxD5CCCAAAIIIIAAAq4LEJS6TkwHCCCAAAIIIIAAAk4CBKVOQuQjgAACCCCAAAIIuC5AUOo6MR0ggAACCCCAAAIIOAkQlDoJkY8AAggggAACCCDgugBBqevEdIAAAggggAACCCDgJEBQ6iREPgIIIIAAAggggIDrAgSlrhPTAQIIIIAAAggggICTAEGpkxD5CCCAAAIIIIAAAq4LEJS6TkwHCCCAAAIIIIAAAk4CBKVOQuQjgAACCCCAAAIIuC5AUOo6MR0ggAACCCCAAAIIOAkQlDoJkY8AAggggAACCCDgugBBqevEdIAAAggggAACCCDgJEBQ6iREPgIIIIAAAggggIDrAgSlrhPTAQIIIIAAAggggICTAEGpkxD5CCCAAAIIIIAAAq4LEJS6TkwHCCCAAAIIIIAAAk4CBKVOQuQjgAACCCCAAAIIuC5AUOo6MR0ggAACCCCAAAIIOAkQlDoJkY8AAggggAACCCDgugBBqevEdIAAAggggAACCCDgJEBQ6iREPgIIIIAAAggggIDrAgSlrhPTAQIIIIAAAggggICTAEGpkxD5CCCAAAIIIIAAAq4LEJS6TkwHCCCAAAIIIIAAAk4CBKVOQuQjgAACCCCAAAIIuC5AUOo6MR0ggAACCCCAAAIIOAkQlDoJkY8AAggggAACCCDgugBBqevEdIAAAggggAACCCDgJEBQ6iREPgIIIIAAAggggIDrAgSlrhPTAQIIIIAAAggggICTAEGpkxD5CCCAAAIIIIAAAq4LEJS6TkwHCCCAAAIIIIAAAk4CBKVOQuQjgAACCCCAAAIIuC5AUOo6MR0ggAACCCCAAAIIOAkQlDoJkY8AAggggAACCCDgugBBqevEdIAAAggggAACCCDgJEBQ6iREPgIIIIAAAggggIDrAgSlrhPTAQIIIIAAAggggICTAEGpkxD5CCCAAAIIIIAAAq4LEJS6TkwHCCCAAAIIIIAAAk4CBKVOQuQjgAACCCCAAAIIuC5AUOo6MR0ggAACCCCAAAIIOAkQlDoJkY8AAggggAACCCDgugBBqevEdIAAAggggAACCCDgJEBQ6iREPgIIIIAAAggggIDrAh7Xe7jiDnrUsbdFB48GdV55CpQt1rKqYg0OOKbg4Rb97Bfv6PxFaW6gTH+5rEoFgwWuuGcqIoAAAggggAACCKRXIEtDuLBeXv+4docMRq5f/gthtbe1at/JJ1W3ptwW6ti5QVub7QLK1QW1t7epeV+X6upWyZ9eQ3pDAAEEEEAAAQQQSFEgK0/fR4Ov2wGpv7JGL9XXqa6xTssLpXBLgw73mGfcc1A/tALSwHKTV6/6xh2qqTChaLhZr3RYBdgQQAABBBBAAAEEJpNAVgal3cdP2oZfWXZn3+l6v+77erVJC+t4d49Cbx4yc6PSkoeW9s2KelX10FfNjKnUcbTbrssDAggggAACCCCAwOQRyMqgNCf3Glsw9NvogGTO1bMG9s99aAWehbplnm8gTbMLdP3gEXsIIIAAAggggAACk0ggK9eUFgQChtCsEd36rHxr79ecS6f144bmAdb+Qc/s37Fyej9S0HwzZ/nZEEAAAQQQQAABBCaZQGJYlzVD9xQtVe3KD7StsVVNZk1p4jY4X2pSE0fv+RQBaSIU+wgggAACCCCAwCQSSAzrsmrYxUsfU/3SRxWNfqKrvF5FOnbqsa3NmpmTo5g90pC6z0RVWuTtG/cl+3vvGJ/FqVOn1NXVNaz0VVddpTfeeGNYOgkIIIAAAggggMBUEJg/f76sr2zbsjYojUN55PVaQzyrphet0/cVqgh4ldd7q6zL8395pFv3Flmn+qVQ235ZN4iqvHGOfez0sGDBAllfQzcrIL377ruHJnPskoDlfdddd2nGjBku9UCziQL79+9XZWWl/uRPsnI5eeJQp8Q+3un9MeKNd3oF0tvbdIhPsjIojYYO6Ac7junWqjvknxnWvsYGtYelsrV/FT9FX3ynStSszqYt2j7rGyrVSb3U2GZeHSVafFtBel8l9IYAAggggAACCCCQskBWBqXenFz9prNVDeYrvvlVvfpbWrO4KH7oCWjdM2v13U31am18Xnap3BLVbFqn4v6z+SnT0AACCCCAAAIIIIBAugSyMiiVv9xc5PSSopGorDWiPp8v6ZomC8cXWGzKVCkSiZg1pjnK9xGNputFQz8IIIAAAggggMBEC2RnUGo/S7Oe1Ge+LvuMPSZgzb9sifFmFhX1zcaOtyLlr0ggGxdaX9ETmSSVrNc363fT98PCO33WVk94451egfT2Nh3ikxl/NFt6WekNAQQQQAABBBBAAIFkAS7BTfbgCAEEEEAAAQQQQCADAgSlGUCnSwQQQAABBBBAAIFkAYLSZA+OEEAAAQQQQAABBDIgQFCaAXS6RAABBBBAAAEEEEgWIChN9uAIAQQQQAABBBBAIAMCBKUZQKdLBBBAAAEEEEAAgWQBgtJkD44QQAABBBBAAAEEMiCQxTfPd1ujRwdf/ZE6L35BDz9QnnyT/uhZHfjJz9QePCPN+rQ+/2d/oeryomGfKuX2CCd7+6GOPfrpwW59cdnDKi9M/BiEmIKHW/SzX7yj8xeluYEy/eWyKhUMvBqd8ie7zMSM3z1f/K2fUOZ8p4d/9vpODf9Y+Jh+9MoBqWSZHlhUmPSmEwl1aM9PDyr40XnlfTqgRffdq4WFvoEymc63BuI0hoHBZmhnqvtmyn9a3jw/fGKv/uHpegWtF7N/ibbXrdLA50LFQtpes16tF0xebq50wdqRAitq9cwDxfY+Dw4CkS7t+qe/VVN72C5YvXG71pQOCKtj53ptbQ6ZvFzz74L5Zzbzc6gzPwe/2XXKt4pP681l32nvn2HfKe+f5b6T3z+qY6/+szY3ttpvk/4lG1W3qnTgLTMSfFWPbmq0jwd/xeVq7ZZ/1OIirzKdbw3MaQwDTyYjO1PfN5P+0+/0faRDf2MFpIVlKrP/eJyVNAMaOtBoB6RlK2vVWF+vxhdqVWJe+MGmf1UwlpH/AZOs04h2PrHBBKRSRRxYsxKfQc9B/dAKSAPLVddYr/rGHaqpMKFouFmvdPRITvmJbU3LfZd9p71/hn2nvH+W+04B/9DebXZAWlgSsN8hc5LeJyPa87wVkPpVs22H6usbVffkEnN8QfX/0qaYMp1vDdZpDFaZzG1T3zez/tMvKPVer5rHN2rHtvX6mnVK4+PEF3dU7ftMNKUyfe2+vllRX7G+utz6z92pN4ORxMLsjyjg1ZfWPK4tL9Tpm19bNKxE6M1D9szokoeW2rOiMgsnqh76qpkxNTOkR7vllD+swWmX4K4v/pn1nfr+2e07FfznlH5FT9Zu17an/lrWb67exPfI6Ps6aOYEcitXq6pvSZW//H5VW2/AJ04qnOl8a6xOY0h8PhnYn/K+GfaffkGpp0Dli0rtNaS9l5L+u5qXt/k70Uryf0ZzBtY3SvMW3my/9CMxpkqd3wM8Kl60SEVmeVK099Kw4uc+7DZphbpl3uD6Jc0u0PV9JZ3yhzU47RLc9cU/s75T3z+7faeCv7egVOXFZrmU+WU27DfcubB+b94zr867OuGdM1833WItVetQ94eZzf/QzPvEHMZolcnkNtV9nV4DbvtPv6DU4dU8c4T82Mfn7dRZnoRIdYRyJDkL9AvO7N+xqvR+ZK/vtU4z9SePlu/cw/Qu4eSXav701nV+fabq61R/qvs7Pf9M508q/36shEFHf/ehfaZq4S1zE1I9Kph7rTkukPf3mc2/xozZaYxWmazYRhiH09gng6/TGN32Jygdw6vbc3WeXeoiM6Vj0BpjkcT/0J5PmbnTIZtT/pDiHA4RcPJLNX9Id9PuMFW/VOtPdfBUfdyuP8n9PzJX3SduMXMXFLOgX+c/iadmKv8PCScjRxtDYpnE55BN+6ONfTL4Oo3RbX+C0qRXckz2Gf2PLyad9jj/0UdJpTi4coH4e05I3WeiCY3ET/Nbp5qc8hMqsTuCgJNfqvkjdDmtklL1S7X+VMdO1cft+pPd3ze/2J4AOB1KDEojOvGWdTeUebrhC5nNv86s6nIao1UmWzensU8GX6cxuu0/rYNSj+LXJQ7+Ue3TZ2601tbs15tn+1/2Uf3yNevWGmYd5HyzTodtzAJeT3wxxCzP4PWf826+1a7/yyPdA+2E2vbLekssuXGOnPIHKrEjN3zxH3xhZcJ3Ovlno++U8vfm2L/hcmYN/oaT5xr79ofhQ78y86J9W89x7bPfgD9vrqXIcL41JKcx9I8709+nqm+G/a/6rtky/bNNa/+xsA68tldHT53SscNHdOo3H2tm3iUF3/mt/J8tUkF+j37Sely/av218q77RG/tel4vH/2Dub/R1/U/K4s0raP4Mf6gug7v0c+PBvXmG7t14swlxf57pi6dDSqaX6QbbsjX8X/fp87ONv3GO1sfv/u6vt/QqkvmxluPPHa/Cq/Lu2x+4gVoYxzOlCvmpi/+UiZ9p4N/NvtOBX/rpu6v/bRd75r34QPv/VafxP5b3ktndfqcVws+s0Azu5t16ORxdXTHdPH/tetf/nmnTpu70Cx5pEa3zbs+s/lzzQSG59OXH4NVJoPblPd1eg247D/9bp4fPab1j2y2Z+aSX9cB1e54RsXmg4eO7fq+Nje1DWT7y1boqXUPJHzi0EAWO8MEItq1/lE1WX95D9mWmJvorzI30Y8E9+q7m+oHfwa5JarZtE5V1iX7ZnPKH9LsNDt033d6+2fed2r7Z7/vZPePHNupRzc3D39frKhR4xNVZo1USC8/+6x2d8Y/3MT6EJPK1ev12L19t0HMdL41cqcxDH92aUuZFr4Z9J9+QelYX7qxqKJm0XdMV8nnTTj9Mdb6lHMQMLffikSMb47yfeYvgWGbU/6wCiQkCTj5pZqf1Nk0PEjVL9X6U508VR+3609+/1g0Yt8CMcfnM0uBhj+fTOdbI3Iaw/BRZ0+K09gznT8WX6cxuqFNUOqGKm0igAACCCCAAAIIjEuAJZLj4qIwAggggAACCCCAgBsCBKVuqNImAggggAACCCCAwLgECErHxUVhBBBAAAEEEEAAATcECErdUKVNBBBAAAEEEEAAgXEJEJSOi4vCCCCAAAIIIIAAAm4IEJS6oUqbCCCAAAIIIIAAAuMSICgdFxeFEUAAAQQQQAABBNwQICh1Q5U2EUAAAQQQQAABBMYlQFA6Li4KI4AAAggggAACCLghQFDqhiptIoAAAggggAACCIxLgKB0XFwURgABBBBAAAEEEHBDgKDUDVXaRAABBLJSIKw927dp284Dio51fNEu7dz2PW3f1aHYWOtQDgEEELgCAYLSK0CjCgIIZLtATB2v7tSLr3b0BV89OvDyi9o5cJzt43dnfD0dr6mhtV0nPpopr9VF7Kz27BzBpSeoXf3p3hxdPNGp1qYf6j/D7oyLVhFAAAFLgKCU1wECCEw9gWhQ/9bYrJZXjqrXenbRbv3r7hY17zkxjWf7omr9t2b7Z/3VFXfEf+bR3+nVZuPS72SnntWLT21Sk5Xe1m1SCrT0GxXm+wX9+PUT8Xo8IoAAAi4IEJS6gEqTCCCQYYGrZAejubffqHxrKL0f2wMq/PJC+TI8tIx133Nc+4Om99xqlRd64sMw32Zbe9fOih+bkP3A97+nFntGtEy1Ty21Z1QLvvhn8psSof/4uZgs7aPiGwIITLhA3zvThLdLgwgggEBGBMJdQZ16Z69Cpnf/xbBOBIP6w/FfxIOpw4d07MtzVDq7V4ff+lDX31auwlhIB9ve1ofnLmnOZ7+gioWB+Knt/tFHTRvH39X73WFdUq7mLijSLaUJZSIhdbx1Wtd87jbNOX9UrUdOa+b1pbp7UbG8Y6h72NS99nN3qEhdOnDwuJmPzNWCW25XaZEVTkd04nCbTp6+YNpcoD9dVBoPsvvGFusxfR95W2cumJF9aq6Kv7hQhfkjv62HOw/GTRbdbgeY/U/P/m6mk3PMTtee5/R8mxV2+lXz3DoV2+f4zWH+TfpyobQ71KKDXQ9raVF/hl2bBwQQQGBCBEZ+95qQpmkEAQQQSLdAj17ZsEktfd2G2xr1dFvCGELN2vysTz+siejv65qVW1Kmqzvbk2b/ng+s1PZnltrBX7Rrr765od4EikO2wuWq2/agHdxF3t+rraat5K1Tny24U//nKee61jiGb/WqXLlWs9rq1WLNbvZtDbuWmH5X2f2OOLbcJXqhftWIs8EfvPdru5WFty/ob27w+2yffhfcow0N7Xbaku98T1UFib8e8nXzrYUmKA0pGPydVGQiVDYEEEBgggU4fT/BoDSHAAKZFMjXiudqtaQvZipb+aS2bKnV8kB8TBXm+Jn/fZe8nvjp6gt2QBrQysc36jtrl5g5SrMFG9V4MH6SOnY+ZM9cVq+sUe2WLap9ckV8ljG0W6+fiMQb7WsrfhDQ8tUrVV29UJ4/jLNubpnWfuc7WlFmnSiXWhvjAWnZiho9WdM3NhNU9/d79PV/t4PlshVP6rm657SxZrlKiq+ND2PYo5lxfcuaOzazsNeNsIDBPOf1mxrsWmWrn9Gqhfaih6RW5t74efv4vdC5pHQOEEAAgYkSSPxTeKLapB0EEEAgYwL5BcW6c1FAzU3n9OXKcllnwc9/zszymRnHv7inXAFz5jnSf72OCQQ3/t16ldoxWKnWhd7S5uaQfv3eGWmRX77i/6EdjasGT+cXFenbK9q1qSmoi7GhN0jya+22Wi3uX69p8sdcN7dCtd9/QsVWvHjzt9X5jU3qNLuVNVv0WFWRbfmtk4e01Sz2PHP2vFQsnXk/HjjP/cwNKvAXqKDqQZVWjc4+0866VgWzL/e279ey6r4IfkhTOZ/Os1Os0/xsCCCAgBsCl3t3cqM/2kQAAQRcFIgpFuvRm+3WOW8z49hr7sbpO6dfHbJXmOq/zpnjgsH1kIX3LOsLSONDuvFL5ZIJSkPvnjKrOUvl83jkjZzV4bZf6vipD3ReF9WaeD494Zn4q9cMBqRW+jjqFt5zXzwgtevNVYmZ6e0MBbS4Ih6QWsk3mPWiamnRe13m9Lm5Iv6OeyrUGGxT89+v06FApb7y0DJVlRbqit7UcwsVuNqcmg+Hte25vfrH9YsHA3GrczYEEEAgDQJX9P6VhnHRBQIIIDBugcix/6tHN/ev0Qyrbt0jqhtoJX7cuXG7Hup/57uYPNvZ+5GZIbU270w7uIuYdZZPmNPaw9aUxkslPebMis9F9ieOp66Zdu2vlvC91wTY5rAvhs65JnmmsqDqm9r4cZ6ea2hRONiq+s3mq8SshzVXzA8/+Z7Q7Ei719+lb3/Lr79ZV6cL7fX6wZ6A1t87GBCPVIU0BBBAYKIFWFM60aK0hwACGRPwzr1NS0r6ujezf9XLV2h5hb1S1CynDKhyyXLdPmdwTWXvxUvJY50ZD/ziiRHteT4ekAaqa7R9x0tqbGxU7fKxXOSTSt3kIY1+5FHpvWtU3/iCas16UnslamejfnSsb63rkIr9z/TSSPHvuYjyChbp6bUVdq32hme0p8vMKrMhgAACaRQgKE0jNl0hgIC7Ah5/qVY99YysuDT39ge15sEH9GDNOllhpP+eh/XYqge1MOGq8nDLVu08aJ3at7awfvRy/Lr9QMmN9gRlfyD350urlO+1plfDOvb27+3STg+p1HVq23wUk7qOnVDYjht9KjbrSddUxy+Q8vXPAic14tFse/o0pBPdIwStZqGo9SEDhYtrtLbMCuIvqGHDD9SVEMCeOfa23WL+tawqTaLlAAEEJkxgxLevCWudhhBAAIE0C0ROvGlfJFSYd7Xdc+S9t+37cxaOeIrcLCGtW69DLWWafbbdrKm0qvi13L7YJ6brrEDOxKz1GzcpdM/n1PUfzeocy7l8E9JeeV172A4PEb2++Wlz6yu/yioXKu/8O2ptj1/4NDtvcM3sYCNezS8xFzB1BnW626xJLR2cLe4vE/9l4NXidRt0xFxo1W7+bXhuj15Yf6+5xZQJgoMf2kVvumlufxW+I4AAAhMqwEzphHLSGAIIZF4gPkf52RvnxIfS96f3rbfNGza03JJKVZbkKmxuDRUPSAu1uvZ7KrdnFT0mQKtVpTXNeiGo5t1WQFqoipL4jORgY8lrSfs7vfK6gy2PuDfLekI+3b68zHwPq721xQSk1myvCaYf35Z8sVVCA/NLrfJS+8+PatiJefuzWPsKewL6X1tWx2+P1f5zdVuFzQcMHGm3ovGAbp43PKDtq8k3BBBAICWBGX80W0otUBkBBBCYZAKREy/r0ad3q3B5rbY9WKxIT4+ZC/TIl+8b8er1aKRHveZUdk5+vn1aP2auQPKYq+vHsqVS17H9WFSRiLkg6jJjH2gj1qVt39hg5j8LtfGFbSNNlg4UHboTDe7SI5uapJLV2vHUvf3XXg0txjECCCCQkgAzpSnxURkBBCa1QN8pfZ8JNvNHCUit5+f1WfnxgNQ6HmtAmmpdq/5lN4/XBNKXH/tAfU+R7rc/VSCk14/0r6MdyL3szq9+ts/Or15aTkB6WSkyEUAgFQGC0lT0qIsAApNTIHbRHvfvh159PzmfzZhHXbos/tGobS/tNfdhHeMWPabGVmu9aqWWLhy6dGGMbVAMAQQQGIMAp+/HgEQRBBCYYgLRsE4c/0Ce629SoGB6rZGM9oTNhwDkyZ8/0gVRI/2cY+oJ90h5ZkbWvgPBSGVIQwABBFIXIChN3ZAWEEAAAQQQQAABBFIU4PR9ioBURwABBBBAAAEEEEhdgKA0dUNaQAABBBBAAAEEEEhRgKA0RUCqI4AAAggggAACCKQu8P8BvwHVj5281r4AAAAASUVORK5CYII=)"
      ]
    }
  ],
  "metadata": {
    "accelerator": "GPU",
    "colab": {
      "gpuType": "T4",
      "provenance": []
    },
    "kernelspec": {
      "display_name": "Python 3",
      "name": "python3"
    },
    "language_info": {
      "name": "python",
      "version": "3.8.10"
    },
    "widgets": {
      "application/vnd.jupyter.widget-state+json": {
        "02a79e46a5084053a903d5c15a5dadaa": {
          "model_module": "@jupyter-widgets/controls",
          "model_module_version": "1.5.0",
          "model_name": "LabelModel",
          "state": {
            "_dom_classes": [],
            "_model_module": "@jupyter-widgets/controls",
            "_model_module_version": "1.5.0",
            "_model_name": "LabelModel",
            "_view_count": null,
            "_view_module": "@jupyter-widgets/controls",
            "_view_module_version": "1.5.0",
            "_view_name": "LabelView",
            "description": "",
            "description_tooltip": null,
            "layout": "IPY_MODEL_3cbad4beb2e547f8bde50b497d14c0e1",
            "placeholder": "​",
            "style": "IPY_MODEL_55e6cfed66c14a5ca270686011318102",
            "value": "Your token has been saved to /root/.cache/huggingface/token"
          }
        },
        "0bfb1d7150944848af1c48859a48d59d": {
          "model_module": "@jupyter-widgets/controls",
          "model_module_version": "1.5.0",
          "model_name": "DescriptionStyleModel",
          "state": {
            "_model_module": "@jupyter-widgets/controls",
            "_model_module_version": "1.5.0",
            "_model_name": "DescriptionStyleModel",
            "_view_count": null,
            "_view_module": "@jupyter-widgets/base",
            "_view_module_version": "1.2.0",
            "_view_name": "StyleView",
            "description_width": ""
          }
        },
        "123f643aeb5d457699547f666e673cbc": {
          "model_module": "@jupyter-widgets/controls",
          "model_module_version": "1.5.0",
          "model_name": "HTMLModel",
          "state": {
            "_dom_classes": [],
            "_model_module": "@jupyter-widgets/controls",
            "_model_module_version": "1.5.0",
            "_model_name": "HTMLModel",
            "_view_count": null,
            "_view_module": "@jupyter-widgets/controls",
            "_view_module_version": "1.5.0",
            "_view_name": "HTMLView",
            "description": "",
            "description_tooltip": null,
            "layout": "IPY_MODEL_dc42221270df450291c58eded4485b23",
            "placeholder": "​",
            "style": "IPY_MODEL_1aa495a073c2405a83ef8d91aef7d6b9",
            "value": "Map: 100%"
          }
        },
        "18520d6172d0440cbb1c161d36ca11da": {
          "model_module": "@jupyter-widgets/controls",
          "model_module_version": "1.5.0",
          "model_name": "ProgressStyleModel",
          "state": {
            "_model_module": "@jupyter-widgets/controls",
            "_model_module_version": "1.5.0",
            "_model_name": "ProgressStyleModel",
            "_view_count": null,
            "_view_module": "@jupyter-widgets/base",
            "_view_module_version": "1.2.0",
            "_view_name": "StyleView",
            "bar_color": null,
            "description_width": ""
          }
        },
        "1aa495a073c2405a83ef8d91aef7d6b9": {
          "model_module": "@jupyter-widgets/controls",
          "model_module_version": "1.5.0",
          "model_name": "DescriptionStyleModel",
          "state": {
            "_model_module": "@jupyter-widgets/controls",
            "_model_module_version": "1.5.0",
            "_model_name": "DescriptionStyleModel",
            "_view_count": null,
            "_view_module": "@jupyter-widgets/base",
            "_view_module_version": "1.2.0",
            "_view_name": "StyleView",
            "description_width": ""
          }
        },
        "1e46ad2298304ae4b063f850631f5b7c": {
          "model_module": "@jupyter-widgets/base",
          "model_module_version": "1.2.0",
          "model_name": "LayoutModel",
          "state": {
            "_model_module": "@jupyter-widgets/base",
            "_model_module_version": "1.2.0",
            "_model_name": "LayoutModel",
            "_view_count": null,
            "_view_module": "@jupyter-widgets/base",
            "_view_module_version": "1.2.0",
            "_view_name": "LayoutView",
            "align_content": null,
            "align_items": null,
            "align_self": null,
            "border": null,
            "bottom": null,
            "display": null,
            "flex": null,
            "flex_flow": null,
            "grid_area": null,
            "grid_auto_columns": null,
            "grid_auto_flow": null,
            "grid_auto_rows": null,
            "grid_column": null,
            "grid_gap": null,
            "grid_row": null,
            "grid_template_areas": null,
            "grid_template_columns": null,
            "grid_template_rows": null,
            "height": null,
            "justify_content": null,
            "justify_items": null,
            "left": null,
            "margin": null,
            "max_height": null,
            "max_width": null,
            "min_height": null,
            "min_width": null,
            "object_fit": null,
            "object_position": null,
            "order": null,
            "overflow": null,
            "overflow_x": null,
            "overflow_y": null,
            "padding": null,
            "right": null,
            "top": null,
            "visibility": null,
            "width": null
          }
        },
        "2fb17e291094461b88f04f1af219831b": {
          "model_module": "@jupyter-widgets/base",
          "model_module_version": "1.2.0",
          "model_name": "LayoutModel",
          "state": {
            "_model_module": "@jupyter-widgets/base",
            "_model_module_version": "1.2.0",
            "_model_name": "LayoutModel",
            "_view_count": null,
            "_view_module": "@jupyter-widgets/base",
            "_view_module_version": "1.2.0",
            "_view_name": "LayoutView",
            "align_content": null,
            "align_items": null,
            "align_self": null,
            "border": null,
            "bottom": null,
            "display": null,
            "flex": null,
            "flex_flow": null,
            "grid_area": null,
            "grid_auto_columns": null,
            "grid_auto_flow": null,
            "grid_auto_rows": null,
            "grid_column": null,
            "grid_gap": null,
            "grid_row": null,
            "grid_template_areas": null,
            "grid_template_columns": null,
            "grid_template_rows": null,
            "height": null,
            "justify_content": null,
            "justify_items": null,
            "left": null,
            "margin": null,
            "max_height": null,
            "max_width": null,
            "min_height": null,
            "min_width": null,
            "object_fit": null,
            "object_position": null,
            "order": null,
            "overflow": null,
            "overflow_x": null,
            "overflow_y": null,
            "padding": null,
            "right": null,
            "top": null,
            "visibility": null,
            "width": null
          }
        },
        "32217502f3c44bd9951b0dd12a9c95c1": {
          "model_module": "@jupyter-widgets/controls",
          "model_module_version": "1.5.0",
          "model_name": "CheckboxModel",
          "state": {
            "_dom_classes": [],
            "_model_module": "@jupyter-widgets/controls",
            "_model_module_version": "1.5.0",
            "_model_name": "CheckboxModel",
            "_view_count": null,
            "_view_module": "@jupyter-widgets/controls",
            "_view_module_version": "1.5.0",
            "_view_name": "CheckboxView",
            "description": "Add token as git credential?",
            "description_tooltip": null,
            "disabled": false,
            "indent": true,
            "layout": "IPY_MODEL_8202ac6479024846aa2e3134593050ba",
            "style": "IPY_MODEL_0bfb1d7150944848af1c48859a48d59d",
            "value": true
          }
        },
        "35151d9234d4427b98a6948bb283cbc5": {
          "model_module": "@jupyter-widgets/controls",
          "model_module_version": "1.5.0",
          "model_name": "FloatProgressModel",
          "state": {
            "_dom_classes": [],
            "_model_module": "@jupyter-widgets/controls",
            "_model_module_version": "1.5.0",
            "_model_name": "FloatProgressModel",
            "_view_count": null,
            "_view_module": "@jupyter-widgets/controls",
            "_view_module_version": "1.5.0",
            "_view_name": "ProgressView",
            "bar_style": "success",
            "description": "",
            "description_tooltip": null,
            "layout": "IPY_MODEL_4450c94456d842808f90bd031c908e9d",
            "max": 1811,
            "min": 0,
            "orientation": "horizontal",
            "style": "IPY_MODEL_18520d6172d0440cbb1c161d36ca11da",
            "value": 1811
          }
        },
        "3cbad4beb2e547f8bde50b497d14c0e1": {
          "model_module": "@jupyter-widgets/base",
          "model_module_version": "1.2.0",
          "model_name": "LayoutModel",
          "state": {
            "_model_module": "@jupyter-widgets/base",
            "_model_module_version": "1.2.0",
            "_model_name": "LayoutModel",
            "_view_count": null,
            "_view_module": "@jupyter-widgets/base",
            "_view_module_version": "1.2.0",
            "_view_name": "LayoutView",
            "align_content": null,
            "align_items": null,
            "align_self": null,
            "border": null,
            "bottom": null,
            "display": null,
            "flex": null,
            "flex_flow": null,
            "grid_area": null,
            "grid_auto_columns": null,
            "grid_auto_flow": null,
            "grid_auto_rows": null,
            "grid_column": null,
            "grid_gap": null,
            "grid_row": null,
            "grid_template_areas": null,
            "grid_template_columns": null,
            "grid_template_rows": null,
            "height": null,
            "justify_content": null,
            "justify_items": null,
            "left": null,
            "margin": null,
            "max_height": null,
            "max_width": null,
            "min_height": null,
            "min_width": null,
            "object_fit": null,
            "object_position": null,
            "order": null,
            "overflow": null,
            "overflow_x": null,
            "overflow_y": null,
            "padding": null,
            "right": null,
            "top": null,
            "visibility": null,
            "width": null
          }
        },
        "3fa8ad550f004e3f9c4c24cd35e6c501": {
          "model_module": "@jupyter-widgets/base",
          "model_module_version": "1.2.0",
          "model_name": "LayoutModel",
          "state": {
            "_model_module": "@jupyter-widgets/base",
            "_model_module_version": "1.2.0",
            "_model_name": "LayoutModel",
            "_view_count": null,
            "_view_module": "@jupyter-widgets/base",
            "_view_module_version": "1.2.0",
            "_view_name": "LayoutView",
            "align_content": null,
            "align_items": null,
            "align_self": null,
            "border": null,
            "bottom": null,
            "display": null,
            "flex": null,
            "flex_flow": null,
            "grid_area": null,
            "grid_auto_columns": null,
            "grid_auto_flow": null,
            "grid_auto_rows": null,
            "grid_column": null,
            "grid_gap": null,
            "grid_row": null,
            "grid_template_areas": null,
            "grid_template_columns": null,
            "grid_template_rows": null,
            "height": null,
            "justify_content": null,
            "justify_items": null,
            "left": null,
            "margin": null,
            "max_height": null,
            "max_width": null,
            "min_height": null,
            "min_width": null,
            "object_fit": null,
            "object_position": null,
            "order": null,
            "overflow": null,
            "overflow_x": null,
            "overflow_y": null,
            "padding": null,
            "right": null,
            "top": null,
            "visibility": null,
            "width": null
          }
        },
        "4450c94456d842808f90bd031c908e9d": {
          "model_module": "@jupyter-widgets/base",
          "model_module_version": "1.2.0",
          "model_name": "LayoutModel",
          "state": {
            "_model_module": "@jupyter-widgets/base",
            "_model_module_version": "1.2.0",
            "_model_name": "LayoutModel",
            "_view_count": null,
            "_view_module": "@jupyter-widgets/base",
            "_view_module_version": "1.2.0",
            "_view_name": "LayoutView",
            "align_content": null,
            "align_items": null,
            "align_self": null,
            "border": null,
            "bottom": null,
            "display": null,
            "flex": null,
            "flex_flow": null,
            "grid_area": null,
            "grid_auto_columns": null,
            "grid_auto_flow": null,
            "grid_auto_rows": null,
            "grid_column": null,
            "grid_gap": null,
            "grid_row": null,
            "grid_template_areas": null,
            "grid_template_columns": null,
            "grid_template_rows": null,
            "height": null,
            "justify_content": null,
            "justify_items": null,
            "left": null,
            "margin": null,
            "max_height": null,
            "max_width": null,
            "min_height": null,
            "min_width": null,
            "object_fit": null,
            "object_position": null,
            "order": null,
            "overflow": null,
            "overflow_x": null,
            "overflow_y": null,
            "padding": null,
            "right": null,
            "top": null,
            "visibility": null,
            "width": null
          }
        },
        "4d33d04d1b394c6e872b86422cd15456": {
          "model_module": "@jupyter-widgets/base",
          "model_module_version": "1.2.0",
          "model_name": "LayoutModel",
          "state": {
            "_model_module": "@jupyter-widgets/base",
            "_model_module_version": "1.2.0",
            "_model_name": "LayoutModel",
            "_view_count": null,
            "_view_module": "@jupyter-widgets/base",
            "_view_module_version": "1.2.0",
            "_view_name": "LayoutView",
            "align_content": null,
            "align_items": null,
            "align_self": null,
            "border": null,
            "bottom": null,
            "display": null,
            "flex": null,
            "flex_flow": null,
            "grid_area": null,
            "grid_auto_columns": null,
            "grid_auto_flow": null,
            "grid_auto_rows": null,
            "grid_column": null,
            "grid_gap": null,
            "grid_row": null,
            "grid_template_areas": null,
            "grid_template_columns": null,
            "grid_template_rows": null,
            "height": null,
            "justify_content": null,
            "justify_items": null,
            "left": null,
            "margin": null,
            "max_height": null,
            "max_width": null,
            "min_height": null,
            "min_width": null,
            "object_fit": null,
            "object_position": null,
            "order": null,
            "overflow": null,
            "overflow_x": null,
            "overflow_y": null,
            "padding": null,
            "right": null,
            "top": null,
            "visibility": null,
            "width": null
          }
        },
        "4f1693d224a24b74a730ef885bd2b036": {
          "model_module": "@jupyter-widgets/controls",
          "model_module_version": "1.5.0",
          "model_name": "DescriptionStyleModel",
          "state": {
            "_model_module": "@jupyter-widgets/controls",
            "_model_module_version": "1.5.0",
            "_model_name": "DescriptionStyleModel",
            "_view_count": null,
            "_view_module": "@jupyter-widgets/base",
            "_view_module_version": "1.2.0",
            "_view_name": "StyleView",
            "description_width": ""
          }
        },
        "55e6cfed66c14a5ca270686011318102": {
          "model_module": "@jupyter-widgets/controls",
          "model_module_version": "1.5.0",
          "model_name": "DescriptionStyleModel",
          "state": {
            "_model_module": "@jupyter-widgets/controls",
            "_model_module_version": "1.5.0",
            "_model_name": "DescriptionStyleModel",
            "_view_count": null,
            "_view_module": "@jupyter-widgets/base",
            "_view_module_version": "1.2.0",
            "_view_name": "StyleView",
            "description_width": ""
          }
        },
        "5ec284ef7b62470e8a35e18de18d4aba": {
          "model_module": "@jupyter-widgets/controls",
          "model_module_version": "1.5.0",
          "model_name": "LabelModel",
          "state": {
            "_dom_classes": [],
            "_model_module": "@jupyter-widgets/controls",
            "_model_module_version": "1.5.0",
            "_model_name": "LabelModel",
            "_view_count": null,
            "_view_module": "@jupyter-widgets/controls",
            "_view_module_version": "1.5.0",
            "_view_name": "LabelView",
            "description": "",
            "description_tooltip": null,
            "layout": "IPY_MODEL_3fa8ad550f004e3f9c4c24cd35e6c501",
            "placeholder": "​",
            "style": "IPY_MODEL_d185e3ebd9594c61ba99b08f17735309",
            "value": "Connecting..."
          }
        },
        "74c44cd5a9fd4993ac88860dcc5f079d": {
          "model_module": "@jupyter-widgets/controls",
          "model_module_version": "1.5.0",
          "model_name": "LabelModel",
          "state": {
            "_dom_classes": [],
            "_model_module": "@jupyter-widgets/controls",
            "_model_module_version": "1.5.0",
            "_model_name": "LabelModel",
            "_view_count": null,
            "_view_module": "@jupyter-widgets/controls",
            "_view_module_version": "1.5.0",
            "_view_name": "LabelView",
            "description": "",
            "description_tooltip": null,
            "layout": "IPY_MODEL_4d33d04d1b394c6e872b86422cd15456",
            "placeholder": "​",
            "style": "IPY_MODEL_d1ec04774d8e4b9cb861f4d84a83f7a9",
            "value": "Login successful"
          }
        },
        "81e4933e60b74550913f55eaa309b5bc": {
          "model_module": "@jupyter-widgets/controls",
          "model_module_version": "1.5.0",
          "model_name": "DescriptionStyleModel",
          "state": {
            "_model_module": "@jupyter-widgets/controls",
            "_model_module_version": "1.5.0",
            "_model_name": "DescriptionStyleModel",
            "_view_count": null,
            "_view_module": "@jupyter-widgets/base",
            "_view_module_version": "1.2.0",
            "_view_name": "StyleView",
            "description_width": ""
          }
        },
        "8202ac6479024846aa2e3134593050ba": {
          "model_module": "@jupyter-widgets/base",
          "model_module_version": "1.2.0",
          "model_name": "LayoutModel",
          "state": {
            "_model_module": "@jupyter-widgets/base",
            "_model_module_version": "1.2.0",
            "_model_name": "LayoutModel",
            "_view_count": null,
            "_view_module": "@jupyter-widgets/base",
            "_view_module_version": "1.2.0",
            "_view_name": "LayoutView",
            "align_content": null,
            "align_items": null,
            "align_self": null,
            "border": null,
            "bottom": null,
            "display": null,
            "flex": null,
            "flex_flow": null,
            "grid_area": null,
            "grid_auto_columns": null,
            "grid_auto_flow": null,
            "grid_auto_rows": null,
            "grid_column": null,
            "grid_gap": null,
            "grid_row": null,
            "grid_template_areas": null,
            "grid_template_columns": null,
            "grid_template_rows": null,
            "height": null,
            "justify_content": null,
            "justify_items": null,
            "left": null,
            "margin": null,
            "max_height": null,
            "max_width": null,
            "min_height": null,
            "min_width": null,
            "object_fit": null,
            "object_position": null,
            "order": null,
            "overflow": null,
            "overflow_x": null,
            "overflow_y": null,
            "padding": null,
            "right": null,
            "top": null,
            "visibility": null,
            "width": null
          }
        },
        "83e334f8acca40b98d1505f68cfe83f4": {
          "model_module": "@jupyter-widgets/controls",
          "model_module_version": "1.5.0",
          "model_name": "VBoxModel",
          "state": {
            "_dom_classes": [],
            "_model_module": "@jupyter-widgets/controls",
            "_model_module_version": "1.5.0",
            "_model_name": "VBoxModel",
            "_view_count": null,
            "_view_module": "@jupyter-widgets/controls",
            "_view_module_version": "1.5.0",
            "_view_name": "VBoxView",
            "box_style": "",
            "children": [
              "IPY_MODEL_e382bb0ff97346ff8e79d0cdd0fea385",
              "IPY_MODEL_b173ffd8570b4e47b4a0658ec2434617",
              "IPY_MODEL_02a79e46a5084053a903d5c15a5dadaa",
              "IPY_MODEL_74c44cd5a9fd4993ac88860dcc5f079d"
            ],
            "layout": "IPY_MODEL_cb6f1e67c217408889cf54bfff3fa676"
          }
        },
        "879782e5fa3f45419e95337b221f0775": {
          "model_module": "@jupyter-widgets/controls",
          "model_module_version": "1.5.0",
          "model_name": "HTMLModel",
          "state": {
            "_dom_classes": [],
            "_model_module": "@jupyter-widgets/controls",
            "_model_module_version": "1.5.0",
            "_model_name": "HTMLModel",
            "_view_count": null,
            "_view_module": "@jupyter-widgets/controls",
            "_view_module_version": "1.5.0",
            "_view_name": "HTMLView",
            "description": "",
            "description_tooltip": null,
            "layout": "IPY_MODEL_e3d490ac6df546a5a88afc39dd40ed2d",
            "placeholder": "​",
            "style": "IPY_MODEL_d6f2899dbcba46c79ad1579c3b908b69",
            "value": "\n<b>Pro Tip:</b> If you don't already have one, you can create a dedicated\n'notebooks' token with 'write' access, that you can then easily reuse for all\nnotebooks. </center>"
          }
        },
        "99fbcd4babf2482f9d50148ab3eb433c": {
          "model_module": "@jupyter-widgets/controls",
          "model_module_version": "1.5.0",
          "model_name": "ButtonModel",
          "state": {
            "_dom_classes": [],
            "_model_module": "@jupyter-widgets/controls",
            "_model_module_version": "1.5.0",
            "_model_name": "ButtonModel",
            "_view_count": null,
            "_view_module": "@jupyter-widgets/controls",
            "_view_module_version": "1.5.0",
            "_view_name": "ButtonView",
            "button_style": "",
            "description": "Login",
            "disabled": false,
            "icon": "",
            "layout": "IPY_MODEL_2fb17e291094461b88f04f1af219831b",
            "style": "IPY_MODEL_9c5f0efca3d94924aa58fdf9abbeb8c1",
            "tooltip": ""
          }
        },
        "9c5f0efca3d94924aa58fdf9abbeb8c1": {
          "model_module": "@jupyter-widgets/controls",
          "model_module_version": "1.5.0",
          "model_name": "ButtonStyleModel",
          "state": {
            "_model_module": "@jupyter-widgets/controls",
            "_model_module_version": "1.5.0",
            "_model_name": "ButtonStyleModel",
            "_view_count": null,
            "_view_module": "@jupyter-widgets/base",
            "_view_module_version": "1.2.0",
            "_view_name": "StyleView",
            "button_color": null,
            "font_weight": ""
          }
        },
        "a1191159df0b4dec91385d28af74fa5e": {
          "model_module": "@jupyter-widgets/base",
          "model_module_version": "1.2.0",
          "model_name": "LayoutModel",
          "state": {
            "_model_module": "@jupyter-widgets/base",
            "_model_module_version": "1.2.0",
            "_model_name": "LayoutModel",
            "_view_count": null,
            "_view_module": "@jupyter-widgets/base",
            "_view_module_version": "1.2.0",
            "_view_name": "LayoutView",
            "align_content": null,
            "align_items": null,
            "align_self": null,
            "border": null,
            "bottom": null,
            "display": null,
            "flex": null,
            "flex_flow": null,
            "grid_area": null,
            "grid_auto_columns": null,
            "grid_auto_flow": null,
            "grid_auto_rows": null,
            "grid_column": null,
            "grid_gap": null,
            "grid_row": null,
            "grid_template_areas": null,
            "grid_template_columns": null,
            "grid_template_rows": null,
            "height": null,
            "justify_content": null,
            "justify_items": null,
            "left": null,
            "margin": null,
            "max_height": null,
            "max_width": null,
            "min_height": null,
            "min_width": null,
            "object_fit": null,
            "object_position": null,
            "order": null,
            "overflow": null,
            "overflow_x": null,
            "overflow_y": null,
            "padding": null,
            "right": null,
            "top": null,
            "visibility": null,
            "width": null
          }
        },
        "a5ce4c5b94a7400d98b86d42cc7fa0ad": {
          "model_module": "@jupyter-widgets/base",
          "model_module_version": "1.2.0",
          "model_name": "LayoutModel",
          "state": {
            "_model_module": "@jupyter-widgets/base",
            "_model_module_version": "1.2.0",
            "_model_name": "LayoutModel",
            "_view_count": null,
            "_view_module": "@jupyter-widgets/base",
            "_view_module_version": "1.2.0",
            "_view_name": "LayoutView",
            "align_content": null,
            "align_items": null,
            "align_self": null,
            "border": null,
            "bottom": null,
            "display": null,
            "flex": null,
            "flex_flow": null,
            "grid_area": null,
            "grid_auto_columns": null,
            "grid_auto_flow": null,
            "grid_auto_rows": null,
            "grid_column": null,
            "grid_gap": null,
            "grid_row": null,
            "grid_template_areas": null,
            "grid_template_columns": null,
            "grid_template_rows": null,
            "height": null,
            "justify_content": null,
            "justify_items": null,
            "left": null,
            "margin": null,
            "max_height": null,
            "max_width": null,
            "min_height": null,
            "min_width": null,
            "object_fit": null,
            "object_position": null,
            "order": null,
            "overflow": null,
            "overflow_x": null,
            "overflow_y": null,
            "padding": null,
            "right": null,
            "top": null,
            "visibility": null,
            "width": null
          }
        },
        "a8ba864b6a28425a9dff75c8093eade7": {
          "model_module": "@jupyter-widgets/controls",
          "model_module_version": "1.5.0",
          "model_name": "HTMLModel",
          "state": {
            "_dom_classes": [],
            "_model_module": "@jupyter-widgets/controls",
            "_model_module_version": "1.5.0",
            "_model_name": "HTMLModel",
            "_view_count": null,
            "_view_module": "@jupyter-widgets/controls",
            "_view_module_version": "1.5.0",
            "_view_name": "HTMLView",
            "description": "",
            "description_tooltip": null,
            "layout": "IPY_MODEL_ca1cd8f28c2a4036a7e128a2875e5844",
            "placeholder": "​",
            "style": "IPY_MODEL_81e4933e60b74550913f55eaa309b5bc",
            "value": "<center> <img\nsrc=https://huggingface.co/front/assets/huggingface_logo-noborder.svg\nalt='Hugging Face'> <br> Copy a token from <a\nhref=\"https://huggingface.co/settings/tokens\" target=\"_blank\">your Hugging Face\ntokens page</a> and paste it below. <br> Immediately click login after copying\nyour token or it might be stored in plain text in this notebook file. </center>"
          }
        },
        "ac458aa94d47451ebf4f63549b511ec4": {
          "model_module": "@jupyter-widgets/controls",
          "model_module_version": "1.5.0",
          "model_name": "HBoxModel",
          "state": {
            "_dom_classes": [],
            "_model_module": "@jupyter-widgets/controls",
            "_model_module_version": "1.5.0",
            "_model_name": "HBoxModel",
            "_view_count": null,
            "_view_module": "@jupyter-widgets/controls",
            "_view_module_version": "1.5.0",
            "_view_name": "HBoxView",
            "box_style": "",
            "children": [
              "IPY_MODEL_123f643aeb5d457699547f666e673cbc",
              "IPY_MODEL_35151d9234d4427b98a6948bb283cbc5",
              "IPY_MODEL_d9552c07dcb14f95a055b303ed24bd39"
            ],
            "layout": "IPY_MODEL_b5b2373b333d4f0a885c104888aa471b"
          }
        },
        "b173ffd8570b4e47b4a0658ec2434617": {
          "model_module": "@jupyter-widgets/controls",
          "model_module_version": "1.5.0",
          "model_name": "LabelModel",
          "state": {
            "_dom_classes": [],
            "_model_module": "@jupyter-widgets/controls",
            "_model_module_version": "1.5.0",
            "_model_name": "LabelModel",
            "_view_count": null,
            "_view_module": "@jupyter-widgets/controls",
            "_view_module_version": "1.5.0",
            "_view_name": "LabelView",
            "description": "",
            "description_tooltip": null,
            "layout": "IPY_MODEL_b33c5dc4234447e2ae5891373beb809b",
            "placeholder": "​",
            "style": "IPY_MODEL_fadf28ebb0324ea388b1cca99e2b6feb",
            "value": "Your token has been saved in your configured git credential helpers (store)."
          }
        },
        "b33c5dc4234447e2ae5891373beb809b": {
          "model_module": "@jupyter-widgets/base",
          "model_module_version": "1.2.0",
          "model_name": "LayoutModel",
          "state": {
            "_model_module": "@jupyter-widgets/base",
            "_model_module_version": "1.2.0",
            "_model_name": "LayoutModel",
            "_view_count": null,
            "_view_module": "@jupyter-widgets/base",
            "_view_module_version": "1.2.0",
            "_view_name": "LayoutView",
            "align_content": null,
            "align_items": null,
            "align_self": null,
            "border": null,
            "bottom": null,
            "display": null,
            "flex": null,
            "flex_flow": null,
            "grid_area": null,
            "grid_auto_columns": null,
            "grid_auto_flow": null,
            "grid_auto_rows": null,
            "grid_column": null,
            "grid_gap": null,
            "grid_row": null,
            "grid_template_areas": null,
            "grid_template_columns": null,
            "grid_template_rows": null,
            "height": null,
            "justify_content": null,
            "justify_items": null,
            "left": null,
            "margin": null,
            "max_height": null,
            "max_width": null,
            "min_height": null,
            "min_width": null,
            "object_fit": null,
            "object_position": null,
            "order": null,
            "overflow": null,
            "overflow_x": null,
            "overflow_y": null,
            "padding": null,
            "right": null,
            "top": null,
            "visibility": null,
            "width": null
          }
        },
        "b5b2373b333d4f0a885c104888aa471b": {
          "model_module": "@jupyter-widgets/base",
          "model_module_version": "1.2.0",
          "model_name": "LayoutModel",
          "state": {
            "_model_module": "@jupyter-widgets/base",
            "_model_module_version": "1.2.0",
            "_model_name": "LayoutModel",
            "_view_count": null,
            "_view_module": "@jupyter-widgets/base",
            "_view_module_version": "1.2.0",
            "_view_name": "LayoutView",
            "align_content": null,
            "align_items": null,
            "align_self": null,
            "border": null,
            "bottom": null,
            "display": null,
            "flex": null,
            "flex_flow": null,
            "grid_area": null,
            "grid_auto_columns": null,
            "grid_auto_flow": null,
            "grid_auto_rows": null,
            "grid_column": null,
            "grid_gap": null,
            "grid_row": null,
            "grid_template_areas": null,
            "grid_template_columns": null,
            "grid_template_rows": null,
            "height": null,
            "justify_content": null,
            "justify_items": null,
            "left": null,
            "margin": null,
            "max_height": null,
            "max_width": null,
            "min_height": null,
            "min_width": null,
            "object_fit": null,
            "object_position": null,
            "order": null,
            "overflow": null,
            "overflow_x": null,
            "overflow_y": null,
            "padding": null,
            "right": null,
            "top": null,
            "visibility": null,
            "width": null
          }
        },
        "bb52a0cd01ca4395bfa4c799664f1282": {
          "model_module": "@jupyter-widgets/controls",
          "model_module_version": "1.5.0",
          "model_name": "DescriptionStyleModel",
          "state": {
            "_model_module": "@jupyter-widgets/controls",
            "_model_module_version": "1.5.0",
            "_model_name": "DescriptionStyleModel",
            "_view_count": null,
            "_view_module": "@jupyter-widgets/base",
            "_view_module_version": "1.2.0",
            "_view_name": "StyleView",
            "description_width": ""
          }
        },
        "c5dd471cb3a545a1b577b3128d051a0f": {
          "model_module": "@jupyter-widgets/controls",
          "model_module_version": "1.5.0",
          "model_name": "DescriptionStyleModel",
          "state": {
            "_model_module": "@jupyter-widgets/controls",
            "_model_module_version": "1.5.0",
            "_model_name": "DescriptionStyleModel",
            "_view_count": null,
            "_view_module": "@jupyter-widgets/base",
            "_view_module_version": "1.2.0",
            "_view_name": "StyleView",
            "description_width": ""
          }
        },
        "ca1cd8f28c2a4036a7e128a2875e5844": {
          "model_module": "@jupyter-widgets/base",
          "model_module_version": "1.2.0",
          "model_name": "LayoutModel",
          "state": {
            "_model_module": "@jupyter-widgets/base",
            "_model_module_version": "1.2.0",
            "_model_name": "LayoutModel",
            "_view_count": null,
            "_view_module": "@jupyter-widgets/base",
            "_view_module_version": "1.2.0",
            "_view_name": "LayoutView",
            "align_content": null,
            "align_items": null,
            "align_self": null,
            "border": null,
            "bottom": null,
            "display": null,
            "flex": null,
            "flex_flow": null,
            "grid_area": null,
            "grid_auto_columns": null,
            "grid_auto_flow": null,
            "grid_auto_rows": null,
            "grid_column": null,
            "grid_gap": null,
            "grid_row": null,
            "grid_template_areas": null,
            "grid_template_columns": null,
            "grid_template_rows": null,
            "height": null,
            "justify_content": null,
            "justify_items": null,
            "left": null,
            "margin": null,
            "max_height": null,
            "max_width": null,
            "min_height": null,
            "min_width": null,
            "object_fit": null,
            "object_position": null,
            "order": null,
            "overflow": null,
            "overflow_x": null,
            "overflow_y": null,
            "padding": null,
            "right": null,
            "top": null,
            "visibility": null,
            "width": null
          }
        },
        "cb6f1e67c217408889cf54bfff3fa676": {
          "model_module": "@jupyter-widgets/base",
          "model_module_version": "1.2.0",
          "model_name": "LayoutModel",
          "state": {
            "_model_module": "@jupyter-widgets/base",
            "_model_module_version": "1.2.0",
            "_model_name": "LayoutModel",
            "_view_count": null,
            "_view_module": "@jupyter-widgets/base",
            "_view_module_version": "1.2.0",
            "_view_name": "LayoutView",
            "align_content": null,
            "align_items": "center",
            "align_self": null,
            "border": null,
            "bottom": null,
            "display": "flex",
            "flex": null,
            "flex_flow": "column",
            "grid_area": null,
            "grid_auto_columns": null,
            "grid_auto_flow": null,
            "grid_auto_rows": null,
            "grid_column": null,
            "grid_gap": null,
            "grid_row": null,
            "grid_template_areas": null,
            "grid_template_columns": null,
            "grid_template_rows": null,
            "height": null,
            "justify_content": null,
            "justify_items": null,
            "left": null,
            "margin": null,
            "max_height": null,
            "max_width": null,
            "min_height": null,
            "min_width": null,
            "object_fit": null,
            "object_position": null,
            "order": null,
            "overflow": null,
            "overflow_x": null,
            "overflow_y": null,
            "padding": null,
            "right": null,
            "top": null,
            "visibility": null,
            "width": "50%"
          }
        },
        "d185e3ebd9594c61ba99b08f17735309": {
          "model_module": "@jupyter-widgets/controls",
          "model_module_version": "1.5.0",
          "model_name": "DescriptionStyleModel",
          "state": {
            "_model_module": "@jupyter-widgets/controls",
            "_model_module_version": "1.5.0",
            "_model_name": "DescriptionStyleModel",
            "_view_count": null,
            "_view_module": "@jupyter-widgets/base",
            "_view_module_version": "1.2.0",
            "_view_name": "StyleView",
            "description_width": ""
          }
        },
        "d1ec04774d8e4b9cb861f4d84a83f7a9": {
          "model_module": "@jupyter-widgets/controls",
          "model_module_version": "1.5.0",
          "model_name": "DescriptionStyleModel",
          "state": {
            "_model_module": "@jupyter-widgets/controls",
            "_model_module_version": "1.5.0",
            "_model_name": "DescriptionStyleModel",
            "_view_count": null,
            "_view_module": "@jupyter-widgets/base",
            "_view_module_version": "1.2.0",
            "_view_name": "StyleView",
            "description_width": ""
          }
        },
        "d6f2899dbcba46c79ad1579c3b908b69": {
          "model_module": "@jupyter-widgets/controls",
          "model_module_version": "1.5.0",
          "model_name": "DescriptionStyleModel",
          "state": {
            "_model_module": "@jupyter-widgets/controls",
            "_model_module_version": "1.5.0",
            "_model_name": "DescriptionStyleModel",
            "_view_count": null,
            "_view_module": "@jupyter-widgets/base",
            "_view_module_version": "1.2.0",
            "_view_name": "StyleView",
            "description_width": ""
          }
        },
        "d9552c07dcb14f95a055b303ed24bd39": {
          "model_module": "@jupyter-widgets/controls",
          "model_module_version": "1.5.0",
          "model_name": "HTMLModel",
          "state": {
            "_dom_classes": [],
            "_model_module": "@jupyter-widgets/controls",
            "_model_module_version": "1.5.0",
            "_model_name": "HTMLModel",
            "_view_count": null,
            "_view_module": "@jupyter-widgets/controls",
            "_view_module_version": "1.5.0",
            "_view_name": "HTMLView",
            "description": "",
            "description_tooltip": null,
            "layout": "IPY_MODEL_a1191159df0b4dec91385d28af74fa5e",
            "placeholder": "​",
            "style": "IPY_MODEL_4f1693d224a24b74a730ef885bd2b036",
            "value": " 1811/1811 [00:00&lt;00:00, 9096.39 examples/s]"
          }
        },
        "dc42221270df450291c58eded4485b23": {
          "model_module": "@jupyter-widgets/base",
          "model_module_version": "1.2.0",
          "model_name": "LayoutModel",
          "state": {
            "_model_module": "@jupyter-widgets/base",
            "_model_module_version": "1.2.0",
            "_model_name": "LayoutModel",
            "_view_count": null,
            "_view_module": "@jupyter-widgets/base",
            "_view_module_version": "1.2.0",
            "_view_name": "LayoutView",
            "align_content": null,
            "align_items": null,
            "align_self": null,
            "border": null,
            "bottom": null,
            "display": null,
            "flex": null,
            "flex_flow": null,
            "grid_area": null,
            "grid_auto_columns": null,
            "grid_auto_flow": null,
            "grid_auto_rows": null,
            "grid_column": null,
            "grid_gap": null,
            "grid_row": null,
            "grid_template_areas": null,
            "grid_template_columns": null,
            "grid_template_rows": null,
            "height": null,
            "justify_content": null,
            "justify_items": null,
            "left": null,
            "margin": null,
            "max_height": null,
            "max_width": null,
            "min_height": null,
            "min_width": null,
            "object_fit": null,
            "object_position": null,
            "order": null,
            "overflow": null,
            "overflow_x": null,
            "overflow_y": null,
            "padding": null,
            "right": null,
            "top": null,
            "visibility": null,
            "width": null
          }
        },
        "e382bb0ff97346ff8e79d0cdd0fea385": {
          "model_module": "@jupyter-widgets/controls",
          "model_module_version": "1.5.0",
          "model_name": "LabelModel",
          "state": {
            "_dom_classes": [],
            "_model_module": "@jupyter-widgets/controls",
            "_model_module_version": "1.5.0",
            "_model_name": "LabelModel",
            "_view_count": null,
            "_view_module": "@jupyter-widgets/controls",
            "_view_module_version": "1.5.0",
            "_view_name": "LabelView",
            "description": "",
            "description_tooltip": null,
            "layout": "IPY_MODEL_a5ce4c5b94a7400d98b86d42cc7fa0ad",
            "placeholder": "​",
            "style": "IPY_MODEL_bb52a0cd01ca4395bfa4c799664f1282",
            "value": "Token is valid (permission: write)."
          }
        },
        "e3d490ac6df546a5a88afc39dd40ed2d": {
          "model_module": "@jupyter-widgets/base",
          "model_module_version": "1.2.0",
          "model_name": "LayoutModel",
          "state": {
            "_model_module": "@jupyter-widgets/base",
            "_model_module_version": "1.2.0",
            "_model_name": "LayoutModel",
            "_view_count": null,
            "_view_module": "@jupyter-widgets/base",
            "_view_module_version": "1.2.0",
            "_view_name": "LayoutView",
            "align_content": null,
            "align_items": null,
            "align_self": null,
            "border": null,
            "bottom": null,
            "display": null,
            "flex": null,
            "flex_flow": null,
            "grid_area": null,
            "grid_auto_columns": null,
            "grid_auto_flow": null,
            "grid_auto_rows": null,
            "grid_column": null,
            "grid_gap": null,
            "grid_row": null,
            "grid_template_areas": null,
            "grid_template_columns": null,
            "grid_template_rows": null,
            "height": null,
            "justify_content": null,
            "justify_items": null,
            "left": null,
            "margin": null,
            "max_height": null,
            "max_width": null,
            "min_height": null,
            "min_width": null,
            "object_fit": null,
            "object_position": null,
            "order": null,
            "overflow": null,
            "overflow_x": null,
            "overflow_y": null,
            "padding": null,
            "right": null,
            "top": null,
            "visibility": null,
            "width": null
          }
        },
        "f8aba7c7a44d4d0ab2e24b04fb024594": {
          "model_module": "@jupyter-widgets/controls",
          "model_module_version": "1.5.0",
          "model_name": "PasswordModel",
          "state": {
            "_dom_classes": [],
            "_model_module": "@jupyter-widgets/controls",
            "_model_module_version": "1.5.0",
            "_model_name": "PasswordModel",
            "_view_count": null,
            "_view_module": "@jupyter-widgets/controls",
            "_view_module_version": "1.5.0",
            "_view_name": "PasswordView",
            "continuous_update": true,
            "description": "Token:",
            "description_tooltip": null,
            "disabled": false,
            "layout": "IPY_MODEL_1e46ad2298304ae4b063f850631f5b7c",
            "placeholder": "​",
            "style": "IPY_MODEL_c5dd471cb3a545a1b577b3128d051a0f",
            "value": ""
          }
        },
        "fadf28ebb0324ea388b1cca99e2b6feb": {
          "model_module": "@jupyter-widgets/controls",
          "model_module_version": "1.5.0",
          "model_name": "DescriptionStyleModel",
          "state": {
            "_model_module": "@jupyter-widgets/controls",
            "_model_module_version": "1.5.0",
            "_model_name": "DescriptionStyleModel",
            "_view_count": null,
            "_view_module": "@jupyter-widgets/base",
            "_view_module_version": "1.2.0",
            "_view_name": "StyleView",
            "description_width": ""
          }
        }
      }
    }
  },
  "nbformat": 4,
  "nbformat_minor": 0
}
